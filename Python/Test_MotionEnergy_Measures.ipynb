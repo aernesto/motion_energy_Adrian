{
 "cells": [
  {
   "cell_type": "code",
   "execution_count": 13,
   "metadata": {},
   "outputs": [
    {
     "data": {
      "text/html": [
       "<script>\n",
       "code_show=true; \n",
       "function code_toggle() {\n",
       " if (code_show){\n",
       " $('div.input').hide();\n",
       " } else {\n",
       " $('div.input').show();\n",
       " }\n",
       " code_show = !code_show\n",
       "} \n",
       "$( document ).ready(code_toggle);\n",
       "</script><font size=4>\n",
       "The raw code for this IPython notebook is by default hidden for easier reading.\n",
       "To toggle on/off the raw code, click <a href=\"javascript:code_toggle()\">here</a>.</font>"
      ],
      "text/plain": [
       "<IPython.core.display.HTML object>"
      ]
     },
     "execution_count": 13,
     "metadata": {},
     "output_type": "execute_result"
    }
   ],
   "source": [
    "from IPython.display import HTML\n",
    "# this cell hides all the code cells by default\n",
    "HTML('''<script>\n",
    "code_show=true; \n",
    "function code_toggle() {\n",
    " if (code_show){\n",
    " $('div.input').hide();\n",
    " } else {\n",
    " $('div.input').show();\n",
    " }\n",
    " code_show = !code_show\n",
    "} \n",
    "$( document ).ready(code_toggle);\n",
    "</script><font size=4>\n",
    "The raw code for this IPython notebook is by default hidden for easier reading.\n",
    "To toggle on/off the raw code, click <a href=\"javascript:code_toggle()\">here</a>.</font>''')"
   ]
  },
  {
   "cell_type": "code",
   "execution_count": 12,
   "metadata": {},
   "outputs": [],
   "source": [
    "# remove warnings before sharing the nb\n",
    "import warnings\n",
    "warnings.filterwarnings('ignore')"
   ]
  },
  {
   "cell_type": "markdown",
   "metadata": {},
   "source": [
    "As the title of the notebook indicates, the purpose of this document \n",
    "is to design a list of criteria that any ME measure we pick must \n",
    "fulfill.\n",
    "\n",
    "A word on **notation**:  \n",
    "- We write $m_i(t)$ for motion energy on trial $i$ at time $t$.  \n",
    "- We write $\\langle m(t)\\rangle_i$ to mean the average across trials, at time $t$.  \n",
    "- We write $\\langle m_i\\rangle_t$ to mean the time average, for trial $i$.  \n",
    "- We write $M$ for the double expectation, along trial and time dimensions.  \n",
    "- We add superscript $^j$ to label specific measure definitions.\n",
    "- We write the sign function as $\\rm sign$, and dismiss the fact that ${\\rm sign}(0)=0$\n",
    "\n",
    "Furthermore, we use the following variables for stimulus parameters:"
   ]
  },
  {
   "cell_type": "code",
   "execution_count": 2,
   "metadata": {
    "scrolled": true
   },
   "outputs": [
    {
     "data": {
      "text/html": [
       "<table style=\"width:40%\"> <tr> <th><font size=\"4\">Variable</font></th> <th><font size=\"4\">Meaning</font></th> </tr> <tr> <td><font size=\"4\">c</font></td> <td><font size=\"4\">signed coherence in %</font></td></tr> <tr> <td><font size=\"4\">n</font></td> <td><font size=\"4\">number of dots per frame</font></td> </tr><tr> <td><font size=\"4\">n_c(t;i)</font></td> <td><font size=\"4\">number of coherent dots</font></td>   </tr></table>"
      ],
      "text/plain": [
       "<IPython.core.display.HTML object>"
      ]
     },
     "metadata": {},
     "output_type": "display_data"
    }
   ],
   "source": [
    "from IPython.display import HTML, display\n",
    "html_table = '<table style=\"width:40%\"> <tr> <th><font size=\"4\">Variable</font></th> <th><font size=\"4\">Meaning</font></th> </tr> <tr> <td><font size=\"4\">c</font></td> <td><font size=\"4\">signed coherence in %</font></td></tr> <tr> <td><font size=\"4\">n</font></td> <td><font size=\"4\">number of dots per frame</font></td> </tr><tr> <td><font size=\"4\">n_c(t;i)</font></td> <td><font size=\"4\">number of coherent dots</font></td>   </tr></table>'\n",
    "display(HTML(html_table))"
   ]
  },
  {
   "cell_type": "markdown",
   "metadata": {},
   "source": [
    "# List of criteria  a ME measure must meet\n",
    "* Scalar quantity that evolves with time\n",
    "* On average (across trials), the sign of the quantity matches the true direction of motion of the coherent dots, at any instant in time\n",
    "* For fixed coherence (and other params), the fluctuations of the ME signal are \"small\"\n",
    "* The behaviors illustrated in the plots below should hold"
   ]
  },
  {
   "cell_type": "code",
   "execution_count": 3,
   "metadata": {},
   "outputs": [],
   "source": [
    "import matplotlib.pyplot as plt\n",
    "import numpy as np"
   ]
  },
  {
   "cell_type": "code",
   "execution_count": 4,
   "metadata": {},
   "outputs": [],
   "source": [
    "%matplotlib inline"
   ]
  },
  {
   "cell_type": "code",
   "execution_count": 5,
   "metadata": {},
   "outputs": [
    {
     "data": {
      "text/plain": [
       "[<matplotlib.axis.XTick at 0x7f3f64404d68>,\n",
       " <matplotlib.axis.XTick at 0x7f3f644046a0>]"
      ]
     },
     "execution_count": 5,
     "metadata": {},
     "output_type": "execute_result"
    },
    {
     "data": {
      "image/png": "[encoded data removed]",
      "text/plain": [
       "<Figure size 1152x360 with 3 Axes>"
      ]
     },
     "metadata": {
      "needs_background": "light"
     },
     "output_type": "display_data"
    }
   ],
   "source": [
    "plt.rcParams[\"figure.figsize\"] = (16, 5) # (w, h) # figure size \n",
    "plt.rcParams.update({'font.size': 22}) # font size on axes\n",
    "plt.subplots_adjust(wspace=0.5) # horizontal space between panels\n",
    "lw = 3.5\n",
    "\n",
    "test_colors = {1:'red', 2:'blue', 3:'green'}\n",
    "\n",
    "ax1 = plt.subplot(1,3,1)\n",
    "ax2 = plt.subplot(1,3,2)\n",
    "ax3 = plt.subplot(1,3,3)\n",
    "\n",
    "# plot 1  --  Test 1\n",
    "test_number = 1\n",
    "c = np.arange(201) - 100\n",
    "rescaled_c = c/100\n",
    "ax1.plot(c,rescaled_c, linewidth=lw, color=test_colors[test_number])\n",
    "\n",
    "# plot 2  --  Test 2\n",
    "test_number = 2\n",
    "signed_M = np.sign(rescaled_c)\n",
    "# for ref on masks below, see\n",
    "# https://stackoverflow.com/a/5940970\n",
    "masked_coh = np.ma.masked_equal(c,50)\n",
    "masked_signed_M = np.ma.masked_equal(signed_M,0)\n",
    "\n",
    "ax2.plot(masked_coh, masked_signed_M, linewidth=lw, color=test_colors[test_number])\n",
    "\n",
    "# plot 3  --  Test 3\n",
    "test_number = 3\n",
    "numDots = np.arange(100)\n",
    "ax3.plot(numDots,numDots, linewidth=lw, color=test_colors[test_number])\n",
    "\n",
    "\n",
    "# labels plot 1\n",
    "ax1.set_title('Test 1')\n",
    "ax1.set_xlabel('coherence')\n",
    "ax1.set_ylabel('<m(t)>_i')\n",
    "ax1.set_yticks([-1,1])\n",
    "ax1.set_xticks([-100,100])\n",
    "\n",
    "# labels plot 2\n",
    "ax2.set_title('Test 2')\n",
    "ax2.set_xlabel('coherence')\n",
    "ax2.set_ylabel('sign(M)')\n",
    "ax2.set_yticks([-1,1])\n",
    "\n",
    "# labels plot 3\n",
    "ax3.set_title('Test 3')\n",
    "ax3.set_xlabel('# of dots')\n",
    "ax3.set_ylabel('|M|')\n",
    "ax3.set_yticks([0])\n",
    "ax3.set_xticks([0,len(numDots)])"
   ]
  },
  {
   "cell_type": "markdown",
   "metadata": {},
   "source": [
    "# Measure 1\n",
    "$$M:=\\frac{c}{100}\\cdot n$$\n",
    "\n",
    "This measure passes tests 2 and 3 above. But since it is a global measure that is independent of time and trial index, test 1 has no meaning for it."
   ]
  },
  {
   "cell_type": "markdown",
   "metadata": {},
   "source": [
    "# Measure 2\n",
    "Another simple measure of ME is the number of coherent dots, for a given trial and time instant:\n",
    "\n",
    "$$m_i(t):={\\rm sign(c)}n_c(t;i)$$\n",
    "\n",
    "Note that, assuming the total number of visible dots $n$ on each frame is the same,\n",
    "our snow-dots algorithm draws $n_c(t;i)$ from a Binomial random variable with parameters \n",
    "$(n, |c| / 100)$.\n",
    "Hence, for this measure, $M$ is the same as measure 1 above and automatically passes tests 2 & 3.\n",
    "\n",
    "Test 1 is also passed, because $\\langle m(t)\\rangle_i = n|c|/100$, and therefore, the average (across trials) instantaneous strength of this measure is proportional to coherence. \n",
    "Note also that the sign of $m_i(t)$ is the same as that of $c$.\n",
    "\n",
    "We might want a measure that can have a sign incompatible with the true coherent direction of motion, on any given trial, at any given time."
   ]
  },
  {
   "cell_type": "markdown",
   "metadata": {},
   "source": [
    "## Empirical measure of measure 2 \n",
    "\n",
    "Our goal here is to use an actual dataset of dots to run test 1 on measure 2."
   ]
  },
  {
   "cell_type": "code",
   "execution_count": 1,
   "metadata": {},
   "outputs": [],
   "source": [
    "%load_ext rpy2.ipython"
   ]
  },
  {
   "cell_type": "code",
   "execution_count": 2,
   "metadata": {},
   "outputs": [
    {
     "name": "stderr",
     "output_type": "stream",
     "text": [
      "/home/adrian/anaconda3/envs/ME_particle/lib/python3.7/site-packages/rpy2/rinterface/__init__.py:146: RRuntimeWarning: data.table 1.12.0  Latest news: r-datatable.com\n",
      "\n",
      "  warnings.warn(x, RRuntimeWarning)\n"
     ]
    }
   ],
   "source": [
    "%%R\n",
    "library(ggplot2)\n",
    "library(data.table)"
   ]
  },
  {
   "cell_type": "code",
   "execution_count": 3,
   "metadata": {},
   "outputs": [
    {
     "data": {
      "text/plain": [
       "Classes ‘data.table’ and 'data.frame':\t24138 obs. of  22 variables:\n",
       " $ stencilNumber: int  1 1 1 1 1 1 1 1 1 1 ...\n",
       " $ pixelSize    : int  5 5 5 5 5 5 5 5 5 5 ...\n",
       " $ diameter     : int  10 10 10 10 10 10 10 10 10 10 ...\n",
       " $ speed        : int  2 2 2 2 2 2 2 2 2 2 ...\n",
       " $ yCenter      : int  0 0 0 0 0 0 0 0 0 0 ...\n",
       " $ xCenter      : int  0 0 0 0 0 0 0 0 0 0 ...\n",
       " $ density      : int  80 80 80 80 80 80 80 80 80 80 ...\n",
       " $ direction    : int  0 0 0 0 0 0 0 0 0 0 ...\n",
       " $ coherence    : int  0 0 0 0 0 0 0 0 0 0 ...\n",
       " $ dotsDuration : int  200 200 200 200 200 200 200 200 200 200 ...\n",
       " $ randSeedBase : int  1 1 1 1 1 1 1 1 1 1 ...\n",
       " $ coherenceSTD : int  0 0 0 0 0 0 0 0 0 0 ...\n",
       " $ frameIdx     : int  1 1 1 1 1 1 1 1 1 1 ...\n",
       " $ onsetTime    : num  2579 2579 2579 2579 2579 ...\n",
       " $ onsetFrame   : int  2 2 2 2 2 2 2 2 2 2 ...\n",
       " $ swapTime     : num  2579 2579 2579 2579 2579 ...\n",
       " $ isTight      : int  0 0 0 0 0 0 0 0 0 0 ...\n",
       " $ iter         : int  1 1 1 1 1 1 1 1 1 1 ...\n",
       " $ dotIdx       : int  1 2 3 4 5 6 7 8 9 10 ...\n",
       " $ xpos         : num  0.4557 0.463 0.6297 0.0709 0.4379 ...\n",
       " $ ypos         : num  0.7996 0.7789 0.1295 0.1977 0.0597 ...\n",
       " $ isCoherent   : int  0 0 0 0 0 0 0 0 0 0 ...\n",
       " - attr(*, \".internal.selfref\")=<externalptr> \n"
      ]
     },
     "metadata": {},
     "output_type": "display_data"
    }
   ],
   "source": [
    "%%R \n",
    "dataFolder <- \"/home/adrian/programing/data/motion_energy/\"\n",
    "dataTag <- \"ME_DB_1\"\n",
    "datafile <- paste(dataFolder,dataTag,\".csv\",sep='')\n",
    "data <- fread(file=datafile, header=TRUE, sep=\",\")\n",
    "str(data)"
   ]
  },
  {
   "cell_type": "markdown",
   "metadata": {},
   "source": [
    "### Basic questions about the data\n",
    "1. How many distinct parameter conditions are there in the dataset?\n",
    "2. Get data to run test 1"
   ]
  },
  {
   "cell_type": "code",
   "execution_count": 5,
   "metadata": {},
   "outputs": [
    {
     "data": {
      "text/plain": [
       "   speed direction coherence freq.\n",
       "1:     2         0         0  2970\n",
       "2:     2         0        20  3024\n",
       "3:     2         1         0  3024\n",
       "4:     2         1        20  3024\n",
       "5:     3         0         0  3024\n",
       "6:     3         0        20  3024\n",
       "7:     3         1         0  3024\n",
       "8:     3         1        20  3024\n"
      ]
     },
     "metadata": {},
     "output_type": "display_data"
    }
   ],
   "source": [
    "%%R\n",
    "source(\"R_functions.r\")\n",
    "\n",
    "# data without dots\n",
    "dataNoDots <- data[,]\n",
    "\n",
    "indepVarNames <- c(\"speed\",\"direction\",\"coherence\")\n",
    "combFactors <- getFreq(data, indepVarNames)\n",
    "combFactors"
   ]
  }
 ],
 "metadata": {
  "kernelspec": {
   "display_name": "Python 3.7 (ME_particle)",
   "language": "python",
   "name": "me_particle"
  },
  "language_info": {
   "codemirror_mode": {
    "name": "ipython",
    "version": 3
   },
   "file_extension": ".py",
   "mimetype": "text/x-python",
   "name": "python",
   "nbconvert_exporter": "python",
   "pygments_lexer": "ipython3",
   "version": "3.7.1"
  }
 },
 "nbformat": 4,
 "nbformat_minor": 2
}
