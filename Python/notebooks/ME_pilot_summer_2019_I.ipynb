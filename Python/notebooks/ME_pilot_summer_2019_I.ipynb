{
 "cells": [
  {
   "cell_type": "markdown",
   "metadata": {
    "toc": true
   },
   "source": [
    "<h1>Table of Contents<span class=\"tocSkip\"></span></h1>\n",
    "<div class=\"toc\"><ul class=\"toc-item\"><li><span><a href=\"#NB-description\" data-toc-modified-id=\"NB-description-1\"><span class=\"toc-item-num\">1&nbsp;&nbsp;</span>NB description</a></span></li><li><span><a href=\"#The-dotsPositions.csv-data\" data-toc-modified-id=\"The-dotsPositions.csv-data-2\"><span class=\"toc-item-num\">2&nbsp;&nbsp;</span>The dotsPositions.csv data</a></span></li><li><span><a href=\"#Write-a-dotsDB-HDF5-file\" data-toc-modified-id=\"Write-a-dotsDB-HDF5-file-3\"><span class=\"toc-item-num\">3&nbsp;&nbsp;</span>Write a dotsDB HDF5 file</a></span><ul class=\"toc-item\"><li><span><a href=\"#Mapping-dots-to-trials\" data-toc-modified-id=\"Mapping-dots-to-trials-3.1\"><span class=\"toc-item-num\">3.1&nbsp;&nbsp;</span>Mapping dots to trials</a></span></li><li><span><a href=\"#Write-HDF5-file\" data-toc-modified-id=\"Write-HDF5-file-3.2\"><span class=\"toc-item-num\">3.2&nbsp;&nbsp;</span>Write HDF5 file</a></span></li></ul></li></ul></div>"
   ]
  },
  {
   "cell_type": "markdown",
   "metadata": {},
   "source": [
    "# NB description\n",
    "date: 12 Nov 2019  \n",
    "This notebook contains code that:\n",
    "- builds an HDF5 dotsDB database off of dotsPositions.csv files from the Pilot run (summer 2019)"
   ]
  },
  {
   "cell_type": "code",
   "execution_count": 1,
   "metadata": {},
   "outputs": [],
   "source": [
    "import sys\n",
    "import pandas as pd\n",
    "import numpy as np\n",
    "import matplotlib.pyplot as plt\n",
    "import pprint\n",
    "import seaborn as sns\n",
    "import h5py     \n",
    "\n",
    "# add location of custom modules to path\n",
    "sys.path.insert(0,'../modules/')\n",
    "sys.path.insert(0,'../modules/dots_db/dotsDB/')\n",
    "\n",
    "# custom modules\n",
    "import dotsDB as ddb\n",
    "import motionenergy as kiani_me\n",
    "import stimulus as stim\n",
    "import ME_functions as my_me"
   ]
  },
  {
   "cell_type": "markdown",
   "metadata": {},
   "source": [
    "# The dotsPositions.csv data\n",
    "The first step is to find what .csv files we have. What I do below is that I inspect a few .csv files and then concatenate them all into a single pandas DataFrame and dump it to file (I only retain active dots info)."
   ]
  },
  {
   "cell_type": "code",
   "execution_count": 2,
   "metadata": {},
   "outputs": [],
   "source": [
    "# !find /home/adrian/SingleCP_DotsReversal/raw -name \"*dotsPositions.csv\" -print"
   ]
  },
  {
   "cell_type": "code",
   "execution_count": 3,
   "metadata": {},
   "outputs": [],
   "source": [
    "DOTS_DATA = '/home/adrian/SingleCP_DotsReversal/processed/dots_pilot_summer_2019.csv'\n",
    "DOTS_LABELED = '/home/adrian/SingleCP_DotsReversal/processed/dots_summer_2019_upgraded_light_v4.csv'"
   ]
  },
  {
   "cell_type": "code",
   "execution_count": 4,
   "metadata": {},
   "outputs": [],
   "source": [
    "def inspect_csv(df):\n",
    "    \"\"\"df is a pandas.DataFrame\"\"\"\n",
    "    print(df.head())\n",
    "    print(len(df))\n",
    "    print(np.unique(df['taskID']))\n",
    "    try:\n",
    "        print(np.unique(df['pilotID']))\n",
    "    except KeyError:\n",
    "        print(np.unique(df['subject']))"
   ]
  },
  {
   "cell_type": "code",
   "execution_count": 5,
   "metadata": {},
   "outputs": [],
   "source": [
    "# a = pd.read_csv('/home/adrian/SingleCP_DotsReversal/raw/2019_06_25_13_24/2019_06_25_13_24_dotsPositions.csv')\n",
    "# inspect_csv(a)\n",
    "\n",
    "# b = pd.read_csv('/home/adrian/SingleCP_DotsReversal/raw/2019_07_03_15_03/2019_07_03_15_03_dotsPositions.csv')\n",
    "# inspect_csv(b)\n",
    "\n",
    "# c = pd.read_csv('/home/adrian/SingleCP_DotsReversal/raw/2019_07_10_17_19/2019_07_10_17_19_dotsPositions.csv')\n",
    "# inspect_csv(c)"
   ]
  },
  {
   "cell_type": "code",
   "execution_count": 6,
   "metadata": {},
   "outputs": [],
   "source": [
    "# files = [\n",
    "#     '/home/adrian/SingleCP_DotsReversal/raw/2019_06_25_13_24/2019_06_25_13_24_dotsPositions.csv',\n",
    "#     '/home/adrian/SingleCP_DotsReversal/raw/2019_07_03_15_03/2019_07_03_15_03_dotsPositions.csv',\n",
    "#     '/home/adrian/SingleCP_DotsReversal/raw/2019_06_24_13_31/2019_06_24_13_31_dotsPositions.csv',\n",
    "#     '/home/adrian/SingleCP_DotsReversal/raw/2019_06_24_13_06/2019_06_24_13_06_dotsPositions.csv',\n",
    "#     '/home/adrian/SingleCP_DotsReversal/raw/2019_07_17_17_17/2019_07_17_17_17_dotsPositions.csv',\n",
    "#     '/home/adrian/SingleCP_DotsReversal/raw/2019_07_10_12_18/2019_07_10_12_18_dotsPositions.csv',\n",
    "#     '/home/adrian/SingleCP_DotsReversal/raw/2019_06_20_13_27/2019_06_20_13_27_dotsPositions.csv',\n",
    "#     '/home/adrian/SingleCP_DotsReversal/raw/2019_06_24_12_38/2019_06_24_12_38_dotsPositions.csv',\n",
    "#     '/home/adrian/SingleCP_DotsReversal/raw/2019_07_10_17_19/2019_07_10_17_19_dotsPositions.csv',\n",
    "#     '/home/adrian/SingleCP_DotsReversal/raw/2019_06_20_12_54/2019_06_20_12_54_dotsPositions.csv',\n",
    "#     '/home/adrian/SingleCP_DotsReversal/raw/2019_06_21_13_08/2019_06_21_13_08_dotsPositions.csv',\n",
    "#     '/home/adrian/SingleCP_DotsReversal/raw/2019_07_12_11_11/2019_07_12_11_11_dotsPositions.csv'\n",
    "# ]"
   ]
  },
  {
   "cell_type": "code",
   "execution_count": 7,
   "metadata": {},
   "outputs": [],
   "source": [
    "# pandas = [pd.read_csv(f) for f in files]\n",
    "# total = pd.concat(pandas)\n",
    "# inspect_csv(total)"
   ]
  },
  {
   "cell_type": "code",
   "execution_count": 8,
   "metadata": {},
   "outputs": [],
   "source": [
    "# len(files)"
   ]
  },
  {
   "cell_type": "code",
   "execution_count": 9,
   "metadata": {},
   "outputs": [],
   "source": [
    "# final = total.loc[total['isActive'] == 1,:]\n",
    "# inspect_csv(final)"
   ]
  },
  {
   "cell_type": "code",
   "execution_count": 10,
   "metadata": {},
   "outputs": [],
   "source": [
    "# write_to_file = False\n",
    "# if write_to_file:\n",
    "#     final.to_csv('dots_pilot_summer_2019.csv', index=False)"
   ]
  },
  {
   "cell_type": "markdown",
   "metadata": {},
   "source": [
    "# Write a dotsDB HDF5 file\n",
    "Now that all the dotsPositions.csv data is collected into a single global .csv file, I wish to dump it all into an hdf5 database.\n",
    "\n",
    "Several actions need to be implemented.\n",
    "1. For each trial in the dotsPositions.csv data, I need to know: _coherence_, _viewing duration_, _presenceCP_, _direction_, _subject_, _block_ (_probCP_). For this, I will assume that the `trialEnd` (from FIRA) and `seqDumpTime` (from dotsPositions) timestamps are in the same unit.\n",
    "2. I need to decide how to organize my dotsDB hierarchically. Example is `subj15/probCP0.1/coh0/ansleft/CPno/VD100`"
   ]
  },
  {
   "cell_type": "code",
   "execution_count": 11,
   "metadata": {},
   "outputs": [],
   "source": [
    "trials_df = pd.read_csv('/home/adrian/SingleCP_DotsReversal/processed/all_valid_data.csv')\n",
    "# dots = pd.read_csv(DOTS_DATA)"
   ]
  },
  {
   "cell_type": "code",
   "execution_count": 12,
   "metadata": {},
   "outputs": [],
   "source": [
    "# trials = np.unique(trials_df['trialEnd'])"
   ]
  },
  {
   "cell_type": "markdown",
   "metadata": {},
   "source": [
    "## Mapping dots to trials\n",
    "Having the dump times of the dots and of the trials, our first task is to recover from which trial each dot is from.\n",
    "\n",
    "Let's start simple, with the first dump times."
   ]
  },
  {
   "cell_type": "code",
   "execution_count": 13,
   "metadata": {},
   "outputs": [],
   "source": [
    "def get_trial_params(df):\n",
    "    \"\"\"coherence, viewing duration, presenceCP, direction, subject, block, probCP\"\"\"\n",
    "    coh = df['coherence'].values[0]\n",
    "    vd = df['viewingDuration'].values[0]\n",
    "    pcp = df['presenceCP'].values[0]\n",
    "    idir = df['initDirection'].values[0]\n",
    "    subj = df['subject'].values[0]\n",
    "    block = df['block'].values[0]\n",
    "    Pcp = df['probCP'].values[0]\n",
    "    return coh, vd, pcp, idir, subj, block, Pcp"
   ]
  },
  {
   "cell_type": "code",
   "execution_count": 14,
   "metadata": {},
   "outputs": [],
   "source": [
    "def get_trial_from_dots_ts(dot_ts, trials_ts, trials_df):\n",
    "    trial_dump_time = np.min(trials_ts[trials_ts>dot_ts])\n",
    "    assert trial_dump_time - dot_ts < .5, 'trialEnd occurs more than 0.5 sec after seqDumpTime'\n",
    "    return trials_df[trials_df['trialEnd'] == trial_dump_time]"
   ]
  },
  {
   "cell_type": "code",
   "execution_count": 15,
   "metadata": {},
   "outputs": [],
   "source": [
    "def add_trial_params(row, t, trials):\n",
    "    \"\"\"\n",
    "    function that adds appropriate values to trial parameter columns in dots dataframe\n",
    "    :param row: row from dataframe\n",
    "    :param t: dataframe with FIRA data\n",
    "    :param trials: numpy array of trialEnd timestamps (scalars)\n",
    "    \"\"\"\n",
    "    time = row['seqDumpTime']\n",
    "    try:\n",
    "        trial = get_trial_from_dots_ts(time, trials, t)\n",
    "    except AssertionError:\n",
    "        print(f'0.5 sec margin failed at row {row.name}')\n",
    "        return row\n",
    "    c,v,p,i,s,b,P = get_trial_params(trial)\n",
    "    row['coherence'] = c\n",
    "    row['viewingDuration'] = v\n",
    "    row['presenceCP'] = p\n",
    "    row['initDirection'] = i\n",
    "    row['subject'] = s\n",
    "    row['block'] = b\n",
    "    row['probCP'] = P\n",
    "    return row\n",
    "\n",
    "def set_nans(df):\n",
    "    if 'isActive' in df:\n",
    "        del df['isActive']\n",
    "    df['coherence'] = np.nan\n",
    "    df['viewingDuration'] = np.nan\n",
    "    df['presenceCP'] = np.nan\n",
    "    df['initDirection'] = np.nan\n",
    "    df['subject'] = np.nan\n",
    "    df['block'] = np.nan\n",
    "    df['probCP'] = np.nan\n",
    "    return df"
   ]
  },
  {
   "cell_type": "markdown",
   "metadata": {},
   "source": [
    "So far so good, for a given `seqDumpTime` value, I am able to recover the trial's parameters. All that remains to do is to add columns to the dots dataframe (and remove the `isActive` one)."
   ]
  },
  {
   "cell_type": "code",
   "execution_count": 16,
   "metadata": {},
   "outputs": [],
   "source": [
    "# inspect_csv(dots)"
   ]
  },
  {
   "cell_type": "markdown",
   "metadata": {},
   "source": [
    "**Following cell is SLOW! Around 30 min**"
   ]
  },
  {
   "cell_type": "code",
   "execution_count": 17,
   "metadata": {},
   "outputs": [],
   "source": [
    "if False:\n",
    "    dots = set_nans(dots)\n",
    "    dots = dots.apply(add_trial_params, axis=1, args=(trials_df, trials))"
   ]
  },
  {
   "cell_type": "code",
   "execution_count": 18,
   "metadata": {},
   "outputs": [],
   "source": [
    "if False:\n",
    "    dots_light = dots.copy()\n",
    "    dots_light.dropna(inplace=True)\n",
    "    dots.to_csv('dots_summer_2019_upgraded.csv')\n",
    "    dots_light.to_csv('dots_summer_2019_upgraded_light.csv')"
   ]
  },
  {
   "cell_type": "markdown",
   "metadata": {},
   "source": [
    "I forgot to record true duration and subject's choice!\n",
    "Rebelote..."
   ]
  },
  {
   "cell_type": "code",
   "execution_count": 19,
   "metadata": {},
   "outputs": [],
   "source": [
    "# ALL THIS HAS BEEN DONE AND YIELDED 'dots_summer_2019_upgraded_light_v2.csv'\n",
    "# dots = pd.read_csv(DOTS_LABELED)\n",
    "# del dots['Unnamed: 0']\n",
    "# gb = dots.groupby('seqDumpTime')\n",
    "\n",
    "# # Let's build a dataframe with four columns: seqDumpTime, cpChoice, trueVD and trialEnd\n",
    "# extras = pd.DataFrame(index=gb.groups.keys(), columns=['cpChoice', 'trueVD', 'trialEnd'])"
   ]
  },
  {
   "cell_type": "code",
   "execution_count": 20,
   "metadata": {},
   "outputs": [],
   "source": [
    "# def add_extras(row, t, trials):\n",
    "#     \"\"\"\n",
    "#     function that adds appropriate values to trial parameter columns in dots dataframe\n",
    "#     :param row: row from dataframe\n",
    "#     :param t: dataframe with FIRA data\n",
    "#     :param trials: numpy array of trialEnd timestamps (scalars)\n",
    "#     \"\"\"\n",
    "#     time = row.name\n",
    "#     try:\n",
    "#         trial = get_trial_from_dots_ts(time, trials, t)\n",
    "#     except AssertionError:\n",
    "#         print(f'0.5 sec margin failed at row {row.name}')\n",
    "#         return row\n",
    "#     c, v, te = trial['cpChoice'].values[0], trial['dotsOff'].values[0] - trial['dotsOn'].values[0], trial['trialEnd'].values[0]\n",
    "#     row['cpChoice'] = c  # could still be NA if block didn't require CP report\n",
    "#     row['trueVD'] = v\n",
    "#     row['trialEnd'] = te\n",
    "#     return row"
   ]
  },
  {
   "cell_type": "code",
   "execution_count": 21,
   "metadata": {},
   "outputs": [],
   "source": [
    "# extras = pd.DataFrame(index=gb.groups.keys(), columns=['dirChoice', 'trueVD', 'trialEnd'])\n",
    "# extras = extras.apply(add_extras, axis=1, args=(trials_df, trials))"
   ]
  },
  {
   "cell_type": "code",
   "execution_count": 22,
   "metadata": {},
   "outputs": [],
   "source": [
    "# extras.head()"
   ]
  },
  {
   "cell_type": "code",
   "execution_count": 23,
   "metadata": {},
   "outputs": [],
   "source": [
    "# # join on seqDumpTime\n",
    "# dots = dots.join(extras, on='seqDumpTime')"
   ]
  },
  {
   "cell_type": "code",
   "execution_count": 24,
   "metadata": {},
   "outputs": [],
   "source": [
    "# dots.head()"
   ]
  },
  {
   "cell_type": "markdown",
   "metadata": {},
   "source": [
    "I should have added `dirChoice` instead of `cpChoice`!!!"
   ]
  },
  {
   "cell_type": "code",
   "execution_count": 25,
   "metadata": {},
   "outputs": [],
   "source": [
    "# # DONE\n",
    "# dots = pd.read_csv(DOTS_LABELED)\n",
    "# trials_df.set_index('trialEnd', inplace=True)\n",
    "# dots = dots.join(trials_df[['dirChoice']], on='trialEnd')\n",
    "# dots.to_csv('dots_summer_2019_upgraded_light_v3.csv', index=False)"
   ]
  },
  {
   "cell_type": "markdown",
   "metadata": {},
   "source": [
    "Now, it turns out some rows have a `nan` value in the `dirChoice` column!\n",
    "I will drop them!"
   ]
  },
  {
   "cell_type": "code",
   "execution_count": 26,
   "metadata": {},
   "outputs": [],
   "source": [
    "# dots = pd.read_csv(DOTS_LABELED)\n",
    "# old_length = len(dots)\n",
    "# dots.dropna(subset=['dirChoice'],inplace=True)\n",
    "# assert len(dots) < old_length\n",
    "# dots.to_csv('dots_summer_2019_upgraded_light_v4.csv', index=False)"
   ]
  },
  {
   "cell_type": "markdown",
   "metadata": {},
   "source": [
    "## Write HDF5 file\n",
    "Now, I need to write an HDF5 file with the structure:\n",
    "`subj15/probCP0.1/coh0/ansleft/CPno/VD100`.\n",
    "\n",
    "I need to:\n",
    "- loop through the trials contained in the dots DF\n",
    "- port the dots data to dotsDB format\n",
    "- write to file"
   ]
  },
  {
   "cell_type": "code",
   "execution_count": 27,
   "metadata": {},
   "outputs": [],
   "source": [
    "dots = pd.read_csv(DOTS_LABELED)"
   ]
  },
  {
   "cell_type": "code",
   "execution_count": 28,
   "metadata": {},
   "outputs": [
    {
     "data": {
      "text/html": [
       "<div>\n",
       "<style scoped>\n",
       "    .dataframe tbody tr th:only-of-type {\n",
       "        vertical-align: middle;\n",
       "    }\n",
       "\n",
       "    .dataframe tbody tr th {\n",
       "        vertical-align: top;\n",
       "    }\n",
       "\n",
       "    .dataframe thead th {\n",
       "        text-align: right;\n",
       "    }\n",
       "</style>\n",
       "<table border=\"1\" class=\"dataframe\">\n",
       "  <thead>\n",
       "    <tr style=\"text-align: right;\">\n",
       "      <th></th>\n",
       "      <th>xpos</th>\n",
       "      <th>ypos</th>\n",
       "      <th>isCoherent</th>\n",
       "      <th>frameIdx</th>\n",
       "      <th>seqDumpTime</th>\n",
       "      <th>pilotID</th>\n",
       "      <th>taskID</th>\n",
       "      <th>coherence</th>\n",
       "      <th>viewingDuration</th>\n",
       "      <th>presenceCP</th>\n",
       "      <th>initDirection</th>\n",
       "      <th>subject</th>\n",
       "      <th>block</th>\n",
       "      <th>probCP</th>\n",
       "      <th>cpChoice</th>\n",
       "      <th>trueVD</th>\n",
       "      <th>trialEnd</th>\n",
       "      <th>dirChoice</th>\n",
       "    </tr>\n",
       "  </thead>\n",
       "  <tbody>\n",
       "    <tr>\n",
       "      <th>0</th>\n",
       "      <td>0.318696</td>\n",
       "      <td>0.904964</td>\n",
       "      <td>1.0</td>\n",
       "      <td>1.0</td>\n",
       "      <td>1.204691e+06</td>\n",
       "      <td>2.0</td>\n",
       "      <td>4.0</td>\n",
       "      <td>0.0</td>\n",
       "      <td>0.3</td>\n",
       "      <td>0.0</td>\n",
       "      <td>180.0</td>\n",
       "      <td>S2</td>\n",
       "      <td>Block2</td>\n",
       "      <td>0.0</td>\n",
       "      <td>NaN</td>\n",
       "      <td>0.319511</td>\n",
       "      <td>1.204691e+06</td>\n",
       "      <td>1.0</td>\n",
       "    </tr>\n",
       "    <tr>\n",
       "      <th>1</th>\n",
       "      <td>0.148004</td>\n",
       "      <td>0.133263</td>\n",
       "      <td>1.0</td>\n",
       "      <td>1.0</td>\n",
       "      <td>1.204691e+06</td>\n",
       "      <td>2.0</td>\n",
       "      <td>4.0</td>\n",
       "      <td>0.0</td>\n",
       "      <td>0.3</td>\n",
       "      <td>0.0</td>\n",
       "      <td>180.0</td>\n",
       "      <td>S2</td>\n",
       "      <td>Block2</td>\n",
       "      <td>0.0</td>\n",
       "      <td>NaN</td>\n",
       "      <td>0.319511</td>\n",
       "      <td>1.204691e+06</td>\n",
       "      <td>1.0</td>\n",
       "    </tr>\n",
       "    <tr>\n",
       "      <th>2</th>\n",
       "      <td>0.121492</td>\n",
       "      <td>0.041648</td>\n",
       "      <td>0.0</td>\n",
       "      <td>1.0</td>\n",
       "      <td>1.204691e+06</td>\n",
       "      <td>2.0</td>\n",
       "      <td>4.0</td>\n",
       "      <td>0.0</td>\n",
       "      <td>0.3</td>\n",
       "      <td>0.0</td>\n",
       "      <td>180.0</td>\n",
       "      <td>S2</td>\n",
       "      <td>Block2</td>\n",
       "      <td>0.0</td>\n",
       "      <td>NaN</td>\n",
       "      <td>0.319511</td>\n",
       "      <td>1.204691e+06</td>\n",
       "      <td>1.0</td>\n",
       "    </tr>\n",
       "    <tr>\n",
       "      <th>3</th>\n",
       "      <td>0.462633</td>\n",
       "      <td>0.896828</td>\n",
       "      <td>0.0</td>\n",
       "      <td>1.0</td>\n",
       "      <td>1.204691e+06</td>\n",
       "      <td>2.0</td>\n",
       "      <td>4.0</td>\n",
       "      <td>0.0</td>\n",
       "      <td>0.3</td>\n",
       "      <td>0.0</td>\n",
       "      <td>180.0</td>\n",
       "      <td>S2</td>\n",
       "      <td>Block2</td>\n",
       "      <td>0.0</td>\n",
       "      <td>NaN</td>\n",
       "      <td>0.319511</td>\n",
       "      <td>1.204691e+06</td>\n",
       "      <td>1.0</td>\n",
       "    </tr>\n",
       "    <tr>\n",
       "      <th>4</th>\n",
       "      <td>0.026081</td>\n",
       "      <td>0.544056</td>\n",
       "      <td>0.0</td>\n",
       "      <td>1.0</td>\n",
       "      <td>1.204691e+06</td>\n",
       "      <td>2.0</td>\n",
       "      <td>4.0</td>\n",
       "      <td>0.0</td>\n",
       "      <td>0.3</td>\n",
       "      <td>0.0</td>\n",
       "      <td>180.0</td>\n",
       "      <td>S2</td>\n",
       "      <td>Block2</td>\n",
       "      <td>0.0</td>\n",
       "      <td>NaN</td>\n",
       "      <td>0.319511</td>\n",
       "      <td>1.204691e+06</td>\n",
       "      <td>1.0</td>\n",
       "    </tr>\n",
       "  </tbody>\n",
       "</table>\n",
       "</div>"
      ],
      "text/plain": [
       "       xpos      ypos  isCoherent  frameIdx   seqDumpTime  pilotID  taskID  \\\n",
       "0  0.318696  0.904964         1.0       1.0  1.204691e+06      2.0     4.0   \n",
       "1  0.148004  0.133263         1.0       1.0  1.204691e+06      2.0     4.0   \n",
       "2  0.121492  0.041648         0.0       1.0  1.204691e+06      2.0     4.0   \n",
       "3  0.462633  0.896828         0.0       1.0  1.204691e+06      2.0     4.0   \n",
       "4  0.026081  0.544056         0.0       1.0  1.204691e+06      2.0     4.0   \n",
       "\n",
       "   coherence  viewingDuration  presenceCP  initDirection subject   block  \\\n",
       "0        0.0              0.3         0.0          180.0      S2  Block2   \n",
       "1        0.0              0.3         0.0          180.0      S2  Block2   \n",
       "2        0.0              0.3         0.0          180.0      S2  Block2   \n",
       "3        0.0              0.3         0.0          180.0      S2  Block2   \n",
       "4        0.0              0.3         0.0          180.0      S2  Block2   \n",
       "\n",
       "   probCP  cpChoice    trueVD      trialEnd  dirChoice  \n",
       "0     0.0       NaN  0.319511  1.204691e+06        1.0  \n",
       "1     0.0       NaN  0.319511  1.204691e+06        1.0  \n",
       "2     0.0       NaN  0.319511  1.204691e+06        1.0  \n",
       "3     0.0       NaN  0.319511  1.204691e+06        1.0  \n",
       "4     0.0       NaN  0.319511  1.204691e+06        1.0  "
      ]
     },
     "execution_count": 28,
     "metadata": {},
     "output_type": "execute_result"
    }
   ],
   "source": [
    "dots.head()"
   ]
  },
  {
   "cell_type": "code",
   "execution_count": 29,
   "metadata": {},
   "outputs": [],
   "source": [
    "gb = dots.groupby('seqDumpTime')  # recall gb.get_group() and gb['frameIdx'].max()"
   ]
  },
  {
   "cell_type": "markdown",
   "metadata": {},
   "source": [
    "At this stage, I would like to know the max value of `frameIdx` in each trial."
   ]
  },
  {
   "cell_type": "code",
   "execution_count": 30,
   "metadata": {},
   "outputs": [],
   "source": [
    "# Needs to be re-written\n",
    "def get_frames(df):\n",
    "    \"\"\"\n",
    "    get the dots data as a list of numpy arrays, as dotsDB requires them\n",
    "    \"\"\"\n",
    "    # (could/should probably be re-written with groupby and apply...)\n",
    "    num_frames = np.max(df[\"frameIdx\"]).astype(int)\n",
    "    assert not np.isnan(num_frames), 'NaN num_frames'\n",
    "    list_of_frames = []\n",
    "    for fr in range(num_frames):\n",
    "        frame_data = df[df[\"frameIdx\"] == (fr+1)]\n",
    "        list_of_frames.append(np.array(frame_data[['ypos','xpos']]))  # here I swap xpos with ypos for dotsDB\n",
    "    return list_of_frames\n",
    "\n",
    "def get_group_name(df):\n",
    "    \"\"\"\n",
    "    get the trial's parameters, and therefore the HDF5 group where the data should be appended\n",
    "    \"\"\"       \n",
    "    # get HDF5 group name\n",
    "    \n",
    "    def choice(c):\n",
    "        if c == 1:\n",
    "            return '/ansright' \n",
    "        elif c == 0:\n",
    "            return '/ansleft'\n",
    "        else:\n",
    "            raise ValueError(f'unexpected choice value {c}')\n",
    "            \n",
    "    def chgepoint(c):\n",
    "        return '/CPyes' if c else '/CPno'\n",
    "    \n",
    "    def viewdur(v):\n",
    "        return '/VD' + str(int(1000*v))\n",
    "    \n",
    "    def direction(d):\n",
    "        return 'left' if d else 'right'\n",
    "    \n",
    "    ss, pp, cc, ch, cp, vd, di= df[['subject', 'probCP', 'coherence', 'dirChoice', 'presenceCP', \n",
    "                               'viewingDuration', 'initDirection']].values[0,:]\n",
    "    \n",
    "    group_name = '/subj' + ss + \\\n",
    "                 '/probCP' + str(pp) + \\\n",
    "                 '/coh' + str(cc) + \\\n",
    "                 choice(ch) + chgepoint(cp) + viewdur(vd) + '/' + direction(di)\n",
    "                 \n",
    "    vals = {'coh': cc, \n",
    "            'subject': ss, \n",
    "            'probCP': pp, \n",
    "            'dirChoice': ch,\n",
    "            'presenceCP': cp,\n",
    "            'viewingDuration': vd, \n",
    "            'initDirection': direction(di)}\n",
    "    \n",
    "    return group_name, vals\n",
    "\n",
    "def write_dots_to_file(df, hdf5_file):\n",
    "    \"\"\"\n",
    "    The aim of this function is to write the dots info contained in the pandas.DataFrame df to a dotsDB HDF5 file.\n",
    "    df should only contain data about a single trial. \n",
    "    \n",
    "    head on df looks like this\n",
    "    xpos\typos\tisCoherent\tframeIdx\tseqDumpTime\tpilotID\ttaskID\tcoherence\tviewingDuration\tpresenceCP\tinitDirection\tsubject\tblock\tprobCP\tcpChoice\ttrueVD\ttrialEnd\tdirChoice\n",
    "\t0.722093\t0.416122\t1.0\t1.0\t1069.27719\t2.0\t3.0\t48.5\t0.3\t0.0\t180.0\tS1\tBlock2\t0.0\tNaN\t0.318517\t1069.535562\t0.0\n",
    "\t0.681785\t0.356234\t1.0\t1.0\t1069.27719\t2.0\t3.0\t48.5\t0.3\t0.0\t180.0\tS1\tBlock2\t0.0\tNaN\t0.318517\t1069.535562\t0.0\n",
    "\t0.445828\t0.914470\t1.0\t1.0\t1069.27719\t2.0\t3.0\t48.5\t0.3\t0.0\t180.0\tS1\tBlock2\t0.0\tNaN\t0.318517\t1069.535562\t0.0\n",
    "\t0.833181\t0.112126\t1.0\t1.0\t1069.27719\t2.0\t3.0\t48.5\t0.3\t0.0\t180.0\tS1\tBlock2\t0.0\tNaN\t0.318517\t1069.535562\t0.0\n",
    "\t0.013516\t0.354543\t1.0\t1.0\t1069.27719\t2.0\t3.0\t48.5\t0.3\t0.0\t180.0\tS1\tBlock2\t0.0\tNaN\t0.318517\t1069.535562\t0.0\n",
    "    \"\"\"\n",
    "    frames = get_frames(df)\n",
    "    gn, params = get_group_name(df)\n",
    "    \n",
    "    # exit function if number of frames too different from theoretical one \n",
    "    vd = params['viewingDuration']\n",
    "    num_frames = len(frames)\n",
    "    if abs(num_frames-vd*60) > 5:\n",
    "        tr = df['seqDumpTime'].values[0]\n",
    "        print(f'trial {tr} not written; discrepancy num_frames {num_frames} and VD {vd}')\n",
    "        return None\n",
    "    \n",
    "    cptime = 0.2 if params['presenceCP'] else None\n",
    "    parameters = dict(speed=5, \n",
    "                      density=90, \n",
    "                      coh_mean=params['coh'], \n",
    "                      coh_stdev=10, \n",
    "                      direction=params['initDirection'],\n",
    "                      num_frames=np.max(df[\"frameIdx\"]).astype(int),\n",
    "                      diameter=5, \n",
    "                      pixels_per_degree=(55.4612 / 2), \n",
    "                      dot_size_in_pxs=3, \n",
    "                      cp_time=cptime)\n",
    "    \n",
    "    stimulus = ddb.DotsStimulus(**parameters)\n",
    "    \n",
    "    ddb.write_stimulus_to_file(stimulus, 1, hdf5_file, \n",
    "                               pre_generated_stimulus=[frames],\n",
    "                               group_name=gn, append_to_group=True, max_trials=50)"
   ]
  },
  {
   "cell_type": "code",
   "execution_count": 31,
   "metadata": {},
   "outputs": [],
   "source": [
    "# # get the first two seqDumpTime values for toy example\n",
    "# counter = 0\n",
    "# for ix in gb.groups.keys():\n",
    "#     counter += 1\n",
    "#     if counter == 6:\n",
    "#         break\n",
    "#     write_dots_to_file(dots[dots['seqDumpTime']==ix], 'test_pilot.h5')"
   ]
  },
  {
   "cell_type": "markdown",
   "metadata": {},
   "source": [
    "Following cell takes a bit under 5 min"
   ]
  },
  {
   "cell_type": "code",
   "execution_count": 32,
   "metadata": {},
   "outputs": [
    {
     "name": "stdout",
     "output_type": "stream",
     "text": [
      "trial 1069.277189657 not written; discrepancy num_frames 25 and VD 0.3\n",
      "trial 1069.277189657 not written; discrepancy num_frames 25 and VD 0.3\n",
      "trial 1073.733669975 not written; discrepancy num_frames 7 and VD 0.4\n",
      "trial 597083.015948481 not written; discrepancy num_frames 16 and VD 0.4\n"
     ]
    }
   ],
   "source": [
    "# Recall func is called twice the first time!\n",
    "\n",
    "# _ = gb.apply(write_dots_to_file, 'pilot_v3.h5')\n",
    "\n",
    "# no need to go in manually and delete the first entry in the dataset corresponding to \n",
    "# the first group element gb.groups.keys()[0]"
   ]
  },
  {
   "cell_type": "code",
   "execution_count": null,
   "metadata": {},
   "outputs": [],
   "source": [
    "\n",
    "\n"
   ]
  },
  {
   "cell_type": "code",
   "execution_count": null,
   "metadata": {},
   "outputs": [],
   "source": []
  }
 ],
 "metadata": {
  "kernelspec": {
   "display_name": "Python 3.6 (MotionEnergy)",
   "language": "python",
   "name": "motionenergy"
  },
  "language_info": {
   "codemirror_mode": {
    "name": "ipython",
    "version": 3
   },
   "file_extension": ".py",
   "mimetype": "text/x-python",
   "name": "python",
   "nbconvert_exporter": "python",
   "pygments_lexer": "ipython3",
   "version": "3.6.7"
  },
  "latex_envs": {
   "LaTeX_envs_menu_present": true,
   "autoclose": false,
   "autocomplete": true,
   "bibliofile": "biblio.bib",
   "cite_by": "apalike",
   "current_citInitial": 1,
   "eqLabelWithNumbers": true,
   "eqNumInitial": 1,
   "hotkeys": {
    "equation": "Ctrl-E",
    "itemize": "Ctrl-I"
   },
   "labels_anchors": false,
   "latex_user_defs": false,
   "report_style_numbering": false,
   "user_envs_cfg": false
  },
  "toc": {
   "base_numbering": 1,
   "nav_menu": {},
   "number_sections": true,
   "sideBar": true,
   "skip_h1_title": false,
   "title_cell": "Table of Contents",
   "title_sidebar": "Contents",
   "toc_cell": true,
   "toc_position": {
    "height": "calc(100% - 180px)",
    "left": "10px",
    "top": "150px",
    "width": "165px"
   },
   "toc_section_display": true,
   "toc_window_display": false
  }
 },
 "nbformat": 4,
 "nbformat_minor": 2
}
