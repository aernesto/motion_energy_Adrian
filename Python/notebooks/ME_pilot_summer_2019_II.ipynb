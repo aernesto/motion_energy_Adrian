{
 "cells": [
  {
   "cell_type": "code",
   "execution_count": 1,
   "metadata": {},
   "outputs": [],
   "source": [
    "from IPython.display import HTML"
   ]
  },
  {
   "cell_type": "code",
   "execution_count": 2,
   "metadata": {},
   "outputs": [
    {
     "data": {
      "text/html": [
       "\n",
       "    <script>\n",
       "    code_show=true; \n",
       "    function code_toggle() {\n",
       "     if (code_show){\n",
       "     $('div.input').hide();\n",
       "     } else {\n",
       "     $('div.input').show();\n",
       "     }\n",
       "     code_show = !code_show\n",
       "    } \n",
       "    $( document ).ready(code_toggle);\n",
       "    </script>\n",
       "    <a href=\"javascript:code_toggle()\">TOGGLE CODE ON/OFF</a>\n",
       "    "
      ],
      "text/plain": [
       "<IPython.core.display.HTML object>"
      ]
     },
     "execution_count": 2,
     "metadata": {},
     "output_type": "execute_result"
    }
   ],
   "source": [
    "HTML(\n",
    "    '''\n",
    "    <script>\n",
    "    code_show=true; \n",
    "    function code_toggle() {\n",
    "     if (code_show){\n",
    "     $('div.input').hide();\n",
    "     } else {\n",
    "     $('div.input').show();\n",
    "     }\n",
    "     code_show = !code_show\n",
    "    } \n",
    "    $( document ).ready(code_toggle);\n",
    "    </script>\n",
    "    <a href=\"javascript:code_toggle()\">TOGGLE CODE ON/OFF</a>\n",
    "    '''\n",
    ")"
   ]
  },
  {
   "cell_type": "markdown",
   "metadata": {
    "toc": true
   },
   "source": [
    "<h1>Table of Contents<span class=\"tocSkip\"></span></h1>\n",
    "<div class=\"toc\"><ul class=\"toc-item\"><li><span><a href=\"#Aim-of-notebook\" data-toc-modified-id=\"Aim-of-notebook-1\"><span class=\"toc-item-num\">1&nbsp;&nbsp;</span>Aim of notebook</a></span></li><li><span><a href=\"#Constants-and-settings\" data-toc-modified-id=\"Constants-and-settings-2\"><span class=\"toc-item-num\">2&nbsp;&nbsp;</span>Constants and settings</a></span></li><li><span><a href=\"#Producing-the-plots\" data-toc-modified-id=\"Producing-the-plots-3\"><span class=\"toc-item-num\">3&nbsp;&nbsp;</span>Producing the plots</a></span></li><li><span><a href=\"#Querying-the-plots\" data-toc-modified-id=\"Querying-the-plots-4\"><span class=\"toc-item-num\">4&nbsp;&nbsp;</span>Querying the plots</a></span></li></ul></div>"
   ]
  },
  {
   "cell_type": "markdown",
   "metadata": {},
   "source": [
    "# Aim of notebook\n",
    "This notebook is an interface for us to see ME plots. \n",
    "- First, many possible plots must be generated and stored as images with filenames containing the nominal stimulus parameter values.\n",
    "- Then, a simple function needs to be written that will allow the user to specify a cylinder set in parameter space, thereby fetching the relevant plots."
   ]
  },
  {
   "cell_type": "markdown",
   "metadata": {},
   "source": [
    "# Constants and settings"
   ]
  },
  {
   "cell_type": "code",
   "execution_count": 3,
   "metadata": {},
   "outputs": [],
   "source": [
    "import sys\n",
    "\n",
    "# add location of custom modules to path\n",
    "sys.path.insert(0,'../modules/')\n",
    "sys.path.insert(0,'../modules/dots_db/dotsDB/')\n",
    "\n",
    "# add location of data to path -- I couldn't make this work\n",
    "# sys.path.insert(0,'../../data/')\n",
    "# sys.path.insert(0,'../modules/dots_db/data/')"
   ]
  },
  {
   "cell_type": "code",
   "execution_count": 4,
   "metadata": {},
   "outputs": [],
   "source": [
    "# pip modules\n",
    "import pprint\n",
    "import numpy as np             \n",
    "import pandas as pd    \n",
    "import seaborn as sns\n",
    "import matplotlib.pyplot as plt\n",
    "import h5py     \n",
    "\n",
    "# custom modules\n",
    "import dotsDB as ddb\n",
    "import motionenergy as kiani_me\n",
    "import stimulus as stim\n",
    "import ME_functions as my_me"
   ]
  },
  {
   "cell_type": "code",
   "execution_count": 5,
   "metadata": {},
   "outputs": [
    {
     "data": {
      "text/plain": [
       "<Figure size 432x288 with 0 Axes>"
      ]
     },
     "metadata": {},
     "output_type": "display_data"
    }
   ],
   "source": [
    "# OPTIONS AND CONSTANTS\n",
    "%matplotlib inline\n",
    "\n",
    "sns.set(style=\"darkgrid\", context=\"poster\")\n",
    "TITLE_FS = 22\n",
    "AXES_FS = 22\n",
    "plt.rcParams.update({'font.size': AXES_FS}) # font size on axes\n",
    "plt.subplots_adjust(wspace=0.5) # horizontal space between panels\n",
    "\n",
    "SKIP_BASIC_STEPS = False"
   ]
  },
  {
   "cell_type": "markdown",
   "metadata": {},
   "source": [
    "Load all group and dataset names in DB"
   ]
  },
  {
   "cell_type": "code",
   "execution_count": 6,
   "metadata": {},
   "outputs": [],
   "source": [
    "file_path = '/home/adrian/SingleCP_DotsReversal/processed/pilot_v3.h5'\n",
    "obj_names, db_info = my_me.get_object_names_in_db(file_path)"
   ]
  },
  {
   "cell_type": "code",
   "execution_count": 7,
   "metadata": {},
   "outputs": [
    {
     "name": "stdout",
     "output_type": "stream",
     "text": [
      "first 4 names in database (as an example)\n",
      "['subjS1/probCP0.0/coh0.0/ansleft/CPno/VD100/left',\n",
      " 'subjS1/probCP0.0/coh0.0/ansleft/CPno/VD100/left/px',\n",
      " 'subjS1/probCP0.0/coh0.0/ansleft/CPno/VD100/right',\n",
      " 'subjS1/probCP0.0/coh0.0/ansleft/CPno/VD100/right/px']\n"
     ]
    }
   ],
   "source": [
    "print('first 4 names in database (as an example)')\n",
    "pprint.pprint(obj_names[:4])"
   ]
  },
  {
   "cell_type": "markdown",
   "metadata": {},
   "source": [
    "# Producing the plots"
   ]
  },
  {
   "cell_type": "markdown",
   "metadata": {},
   "source": [
    "Let's first write a function that takes as input an elementary cylinder set (singleton) and returns a `pandas.Series` amenable to ME plotting (where the difference between R and L answers has already been computed). "
   ]
  },
  {
   "cell_type": "code",
   "execution_count": 8,
   "metadata": {},
   "outputs": [],
   "source": [
    "def compute_ME_diff(cylinder, object_names, uniform_shape, database_info):\n",
    "    \"\"\"\n",
    "    A cylinder looks like this:\n",
    "    cylinder = {'coh': [0], 'vd': [400], 'cp': [False]}\n",
    "    \n",
    "    \"\"\"\n",
    "    r_cylinder, l_cylinder = cylinder.copy(), cylinder.copy()\n",
    "    r_cylinder['ans'], l_cylinder['ans'] = 'r', 'l'\n",
    "    \n",
    "    r_group_names, r_dset_names = my_me.get_names(r_cylinder, object_names)\n",
    "    l_group_names, l_dset_names = my_me.get_names(l_cylinder, object_names)\n",
    "    \n",
    "    r_dots = my_me.extract_list_arrays(r_group_names, r_dset_names, uniform_shape, file_path)\n",
    "    l_dots = my_me.extract_list_arrays(l_group_names, l_dset_names, uniform_shape, file_path)\n",
    "\n",
    "    # truncate to minimum number of frames (left time-alignment)\n",
    "    min_num_frames = min(min(r_k.shape[2], l_k.shape[2]) for r_k, l_k in zip(r_dots, l_dots))\n",
    "\n",
    "    r_dots = [d[:,:,:min_num_frames] for d in r_dots]\n",
    "    l_dots = [d[:,:,:min_num_frames] for d in l_dots]\n",
    "\n",
    "    r_agg_df = my_me.build_me_df(database_info, r_group_names, r_dots, r_cylinder)\n",
    "    l_agg_df = my_me.build_me_df(database_info, l_group_names, l_dots, l_cylinder)\n",
    "    \n",
    "    righties = r_agg_df.groupby('time').mean()\n",
    "    lefties = l_agg_df.groupby('time').mean()\n",
    "    \n",
    "    final = righties['ME'] - lefties['ME']\n",
    "    return final"
   ]
  },
  {
   "cell_type": "code",
   "execution_count": 9,
   "metadata": {},
   "outputs": [],
   "source": [
    "cyl = {'coh': [0], 'vd': [400], 'cp': [False]}\n",
    "d = compute_ME_diff(cyl, obj_names, 50, db_info)"
   ]
  },
  {
   "cell_type": "code",
   "execution_count": 19,
   "metadata": {},
   "outputs": [],
   "source": [
    "def print_cyl(cyl):\n",
    "    base = ''\n",
    "    for k,v in cyl.items():\n",
    "        base += k + ':'\n",
    "        for vv in v:\n",
    "            base += str(vv) + '-'\n",
    "        base = base[:-1]  # delete trailing -\n",
    "        base += ' '\n",
    "    return base"
   ]
  },
  {
   "cell_type": "code",
   "execution_count": 20,
   "metadata": {},
   "outputs": [
    {
     "data": {
      "text/plain": [
       "'coh:0 vd:400 cp:False '"
      ]
     },
     "execution_count": 20,
     "metadata": {},
     "output_type": "execute_result"
    }
   ],
   "source": [
    "print_cyl(cyl)"
   ]
  },
  {
   "cell_type": "code",
   "execution_count": 21,
   "metadata": {},
   "outputs": [
    {
     "data": {
      "text/plain": [
       "Text(0.5, 1.0, 'coh:0 vd:400 cp:False ')"
      ]
     },
     "execution_count": 21,
     "metadata": {},
     "output_type": "execute_result"
    },
    {
     "data": {
      "image/png": "[encoded data removed]",
      "text/plain": [
       "<Figure size 1152x360 with 1 Axes>"
      ]
     },
     "metadata": {},
     "output_type": "display_data"
    }
   ],
   "source": [
    "plt.rcParams[\"figure.figsize\"] = (16, 5) # (w, h) # figure size \n",
    "plt.plot(d)\n",
    "plt.ylabel('Delta ME (R-L)')\n",
    "plt.xlabel('time (s)')\n",
    "plt.title(print_cyl(cyl))"
   ]
  },
  {
   "cell_type": "markdown",
   "metadata": {},
   "source": [
    "# Querying the plots"
   ]
  }
 ],
 "metadata": {
  "kernelspec": {
   "display_name": "Python 3.6 (MotionEnergy)",
   "language": "python",
   "name": "motionenergy"
  },
  "language_info": {
   "codemirror_mode": {
    "name": "ipython",
    "version": 3
   },
   "file_extension": ".py",
   "mimetype": "text/x-python",
   "name": "python",
   "nbconvert_exporter": "python",
   "pygments_lexer": "ipython3",
   "version": "3.6.7"
  },
  "latex_envs": {
   "LaTeX_envs_menu_present": true,
   "autoclose": false,
   "autocomplete": true,
   "bibliofile": "biblio.bib",
   "cite_by": "apalike",
   "current_citInitial": 1,
   "eqLabelWithNumbers": true,
   "eqNumInitial": 1,
   "hotkeys": {
    "equation": "Ctrl-E",
    "itemize": "Ctrl-I"
   },
   "labels_anchors": false,
   "latex_user_defs": false,
   "report_style_numbering": false,
   "user_envs_cfg": false
  },
  "toc": {
   "base_numbering": 1,
   "nav_menu": {},
   "number_sections": true,
   "sideBar": true,
   "skip_h1_title": false,
   "title_cell": "Table of Contents",
   "title_sidebar": "Contents",
   "toc_cell": true,
   "toc_position": {},
   "toc_section_display": true,
   "toc_window_display": true
  }
 },
 "nbformat": 4,
 "nbformat_minor": 2
}
