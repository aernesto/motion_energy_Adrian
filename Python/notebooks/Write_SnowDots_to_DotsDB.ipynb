{
 "cells": [
  {
   "cell_type": "markdown",
   "metadata": {
    "toc": true
   },
   "source": [
    "<h1>Table of Contents<span class=\"tocSkip\"></span></h1>\n",
    "<div class=\"toc\"><ul class=\"toc-item\"><li><span><a href=\"#Load-snow-dots-dotsPositions.csv-file\" data-toc-modified-id=\"Load-snow-dots-dotsPositions.csv-file-1\"><span class=\"toc-item-num\">1&nbsp;&nbsp;</span>Load snow-dots dotsPositions.csv file</a></span></li><li><span><a href=\"#Write-data-to-file-with-dotsDB\" data-toc-modified-id=\"Write-data-to-file-with-dotsDB-2\"><span class=\"toc-item-num\">2&nbsp;&nbsp;</span>Write data to file with dotsDB</a></span></li></ul></div>"
   ]
  },
  {
   "cell_type": "markdown",
   "metadata": {},
   "source": [
    "The purpose of this notebook is to write the dots positions dumped by snow-dots to a dotsDB hdf5 file."
   ]
  },
  {
   "cell_type": "markdown",
   "metadata": {},
   "source": [
    "# Load snow-dots dotsPositions.csv file"
   ]
  },
  {
   "cell_type": "code",
   "execution_count": 1,
   "metadata": {},
   "outputs": [],
   "source": [
    "import pandas as pd"
   ]
  },
  {
   "cell_type": "code",
   "execution_count": 2,
   "metadata": {},
   "outputs": [],
   "source": [
    "import numpy as np"
   ]
  },
  {
   "cell_type": "code",
   "execution_count": 3,
   "metadata": {},
   "outputs": [],
   "source": [
    "data = pd.read_csv(\"../../data/pilot17_dotsPositions.csv\")"
   ]
  },
  {
   "cell_type": "code",
   "execution_count": 4,
   "metadata": {},
   "outputs": [],
   "source": [
    "# add a trialCount column if it doesn't exist\n",
    "if \"trialCount\" not in data.columns:\n",
    "    unique_dump_times = data['seqDumpTime'].unique()   \n",
    "    tot_trials = unique_dump_times.size\n",
    "    assert np.sum(np.diff(unique_dump_times)>=0) == tot_trials - 1 # confirm times are increasing\n",
    "    \n",
    "    # build the trialCount col outside of the dataframe\n",
    "    trialCount = []\n",
    "    for idx in range(tot_trials):\n",
    "        # the long expression after the * symbol below simply counts how many rows data contains with a specific seqDumpTime value\n",
    "        # the * symbol multiplies a list, it's a way to concatenate lists in Python\n",
    "        trialCount += [idx + 1] * data[data[\"seqDumpTime\"] == unique_dump_times[idx]].shape[0]\n",
    "        \n",
    "    data[\"trialCount\"] = trialCount"
   ]
  },
  {
   "cell_type": "code",
   "execution_count": 5,
   "metadata": {},
   "outputs": [
    {
     "data": {
      "text/html": [
       "<div>\n",
       "<style scoped>\n",
       "    .dataframe tbody tr th:only-of-type {\n",
       "        vertical-align: middle;\n",
       "    }\n",
       "\n",
       "    .dataframe tbody tr th {\n",
       "        vertical-align: top;\n",
       "    }\n",
       "\n",
       "    .dataframe thead th {\n",
       "        text-align: right;\n",
       "    }\n",
       "</style>\n",
       "<table border=\"1\" class=\"dataframe\">\n",
       "  <thead>\n",
       "    <tr style=\"text-align: right;\">\n",
       "      <th></th>\n",
       "      <th>xpos</th>\n",
       "      <th>ypos</th>\n",
       "      <th>isActive</th>\n",
       "      <th>isCoherent</th>\n",
       "      <th>frameIdx</th>\n",
       "      <th>seqDumpTime</th>\n",
       "      <th>pilotID</th>\n",
       "      <th>taskID</th>\n",
       "      <th>trialCount</th>\n",
       "    </tr>\n",
       "  </thead>\n",
       "  <tbody>\n",
       "    <tr>\n",
       "      <th>0</th>\n",
       "      <td>0.337567</td>\n",
       "      <td>0.411096</td>\n",
       "      <td>1</td>\n",
       "      <td>1</td>\n",
       "      <td>1</td>\n",
       "      <td>75063.712102</td>\n",
       "      <td>17</td>\n",
       "      <td>1</td>\n",
       "      <td>1</td>\n",
       "    </tr>\n",
       "    <tr>\n",
       "      <th>1</th>\n",
       "      <td>0.362756</td>\n",
       "      <td>0.009781</td>\n",
       "      <td>0</td>\n",
       "      <td>0</td>\n",
       "      <td>1</td>\n",
       "      <td>75063.712102</td>\n",
       "      <td>17</td>\n",
       "      <td>1</td>\n",
       "      <td>1</td>\n",
       "    </tr>\n",
       "    <tr>\n",
       "      <th>2</th>\n",
       "      <td>0.646491</td>\n",
       "      <td>0.330317</td>\n",
       "      <td>0</td>\n",
       "      <td>0</td>\n",
       "      <td>1</td>\n",
       "      <td>75063.712102</td>\n",
       "      <td>17</td>\n",
       "      <td>1</td>\n",
       "      <td>1</td>\n",
       "    </tr>\n",
       "    <tr>\n",
       "      <th>3</th>\n",
       "      <td>0.813617</td>\n",
       "      <td>0.480657</td>\n",
       "      <td>1</td>\n",
       "      <td>1</td>\n",
       "      <td>1</td>\n",
       "      <td>75063.712102</td>\n",
       "      <td>17</td>\n",
       "      <td>1</td>\n",
       "      <td>1</td>\n",
       "    </tr>\n",
       "    <tr>\n",
       "      <th>4</th>\n",
       "      <td>0.210647</td>\n",
       "      <td>0.839180</td>\n",
       "      <td>0</td>\n",
       "      <td>0</td>\n",
       "      <td>1</td>\n",
       "      <td>75063.712102</td>\n",
       "      <td>17</td>\n",
       "      <td>1</td>\n",
       "      <td>1</td>\n",
       "    </tr>\n",
       "  </tbody>\n",
       "</table>\n",
       "</div>"
      ],
      "text/plain": [
       "       xpos      ypos  isActive  isCoherent  frameIdx   seqDumpTime  pilotID  \\\n",
       "0  0.337567  0.411096         1           1         1  75063.712102       17   \n",
       "1  0.362756  0.009781         0           0         1  75063.712102       17   \n",
       "2  0.646491  0.330317         0           0         1  75063.712102       17   \n",
       "3  0.813617  0.480657         1           1         1  75063.712102       17   \n",
       "4  0.210647  0.839180         0           0         1  75063.712102       17   \n",
       "\n",
       "   taskID  trialCount  \n",
       "0       1           1  \n",
       "1       1           1  \n",
       "2       1           1  \n",
       "3       1           1  \n",
       "4       1           1  "
      ]
     },
     "execution_count": 5,
     "metadata": {},
     "output_type": "execute_result"
    }
   ],
   "source": [
    "data.head()"
   ]
  },
  {
   "cell_type": "code",
   "execution_count": 6,
   "metadata": {},
   "outputs": [
    {
     "data": {
      "text/plain": [
       "835.1555555555556"
      ]
     },
     "execution_count": 6,
     "metadata": {},
     "output_type": "execute_result"
    }
   ],
   "source": [
    "data.shape[0] / 450"
   ]
  },
  {
   "cell_type": "code",
   "execution_count": 7,
   "metadata": {},
   "outputs": [],
   "source": [
    "def snowDots2DotsDBNormalizedFrames(df):\n",
    "    \"\"\"\n",
    "    Casts a pandas.DataFrame corresponding to the .csv file outputted by some snow-dots programs into a list of \n",
    "    lists of frames, as dotsDB accepts them. The main mapping is the swapping of x and y.\n",
    "    \n",
    "    In dotsDB, x represents vertical position, y horizontal, and (0,0) is top left corner.\n",
    "    In snow-dots, x represents horizontal position, y vertical, and (0,0) is top left corner.\n",
    "      \n",
    "    :param df: dataframe with columns \"xpos\", \"ypos\", \"isActive\", \"isCoherent\", \"frameIdx\", \n",
    "         \"seqDumpTime\", \"pilotID\", \"taskID\" \n",
    "    :type df: pandas.DataFrame\n",
    "    \"\"\"\n",
    "    list_of_trials = []\n",
    "    num_trials = np.max(df[\"trialCount\"])\n",
    "    for tr in range(num_trials):\n",
    "        list_of_frames = []\n",
    "        trial_data = df[df[\"trialCount\"] == (tr+1)]\n",
    "        \n",
    "        num_frames = np.max(trial_data[\"frameIdx\"])\n",
    "        assert not np.isnan(num_frames), f'trial {tr+1}, num_frames is {num_frames}'\n",
    "        \n",
    "        for fr in range(num_frames):\n",
    "            frame_data = trial_data[(trial_data[\"frameIdx\"] == (fr+1)) & (trial_data[\"isActive\"] == 1)]\n",
    "            list_of_frames.append(np.array(frame_data[['ypos','xpos']]))  # here I swap xpos with ypos\n",
    "        \n",
    "        list_of_trials.append(list_of_frames)\n",
    "    return list_of_trials"
   ]
  },
  {
   "cell_type": "markdown",
   "metadata": {},
   "source": [
    "# Write data to file with dotsDB"
   ]
  },
  {
   "cell_type": "code",
   "execution_count": 8,
   "metadata": {},
   "outputs": [],
   "source": [
    "import sys\n",
    "import pprint\n",
    "# pprint.pprint(sys.path)"
   ]
  },
  {
   "cell_type": "code",
   "execution_count": 9,
   "metadata": {},
   "outputs": [],
   "source": [
    "sys.path.append('../modules/dots_db/dotsDB')"
   ]
  },
  {
   "cell_type": "code",
   "execution_count": 10,
   "metadata": {},
   "outputs": [],
   "source": [
    "import dotsDB as dDB"
   ]
  },
  {
   "cell_type": "code",
   "execution_count": 11,
   "metadata": {},
   "outputs": [],
   "source": [
    "db_filename = '../../data/pilot17_test.h5'"
   ]
  },
  {
   "cell_type": "code",
   "execution_count": 12,
   "metadata": {},
   "outputs": [],
   "source": [
    "ddb_data = snowDots2DotsDBNormalizedFrames(data.iloc[:20000])"
   ]
  },
  {
   "cell_type": "code",
   "execution_count": 13,
   "metadata": {},
   "outputs": [
    {
     "data": {
      "text/plain": [
       "list"
      ]
     },
     "execution_count": 13,
     "metadata": {},
     "output_type": "execute_result"
    }
   ],
   "source": [
    "type(ddb_data)"
   ]
  },
  {
   "cell_type": "code",
   "execution_count": 14,
   "metadata": {},
   "outputs": [
    {
     "data": {
      "text/plain": [
       "18"
      ]
     },
     "execution_count": 14,
     "metadata": {},
     "output_type": "execute_result"
    }
   ],
   "source": [
    "len(ddb_data)"
   ]
  },
  {
   "cell_type": "code",
   "execution_count": 15,
   "metadata": {},
   "outputs": [
    {
     "data": {
      "text/plain": [
       "list"
      ]
     },
     "execution_count": 15,
     "metadata": {},
     "output_type": "execute_result"
    }
   ],
   "source": [
    "type(ddb_data[0])"
   ]
  },
  {
   "cell_type": "code",
   "execution_count": 16,
   "metadata": {},
   "outputs": [
    {
     "data": {
      "text/plain": [
       "25"
      ]
     },
     "execution_count": 16,
     "metadata": {},
     "output_type": "execute_result"
    }
   ],
   "source": [
    "len(ddb_data[0])"
   ]
  },
  {
   "cell_type": "code",
   "execution_count": 17,
   "metadata": {},
   "outputs": [
    {
     "data": {
      "text/plain": [
       "25"
      ]
     },
     "execution_count": 17,
     "metadata": {},
     "output_type": "execute_result"
    }
   ],
   "source": [
    "len(ddb_data[1])"
   ]
  },
  {
   "cell_type": "code",
   "execution_count": 18,
   "metadata": {},
   "outputs": [
    {
     "data": {
      "text/plain": [
       "numpy.ndarray"
      ]
     },
     "execution_count": 18,
     "metadata": {},
     "output_type": "execute_result"
    }
   ],
   "source": [
    "type(ddb_data[0][0])"
   ]
  },
  {
   "cell_type": "code",
   "execution_count": 19,
   "metadata": {},
   "outputs": [
    {
     "data": {
      "text/plain": [
       "(16, 2)"
      ]
     },
     "execution_count": 19,
     "metadata": {},
     "output_type": "execute_result"
    }
   ],
   "source": [
    "ddb_data[0][0].shape"
   ]
  },
  {
   "cell_type": "code",
   "execution_count": 20,
   "metadata": {},
   "outputs": [
    {
     "data": {
      "text/plain": [
       "(15, 2)"
      ]
     },
     "execution_count": 20,
     "metadata": {},
     "output_type": "execute_result"
    }
   ],
   "source": [
    "ddb_data[0][1].shape"
   ]
  },
  {
   "cell_type": "code",
   "execution_count": 21,
   "metadata": {},
   "outputs": [
    {
     "data": {
      "text/html": [
       "<div>\n",
       "<style scoped>\n",
       "    .dataframe tbody tr th:only-of-type {\n",
       "        vertical-align: middle;\n",
       "    }\n",
       "\n",
       "    .dataframe tbody tr th {\n",
       "        vertical-align: top;\n",
       "    }\n",
       "\n",
       "    .dataframe thead th {\n",
       "        text-align: right;\n",
       "    }\n",
       "</style>\n",
       "<table border=\"1\" class=\"dataframe\">\n",
       "  <thead>\n",
       "    <tr style=\"text-align: right;\">\n",
       "      <th></th>\n",
       "      <th>xpos</th>\n",
       "      <th>ypos</th>\n",
       "      <th>isActive</th>\n",
       "      <th>isCoherent</th>\n",
       "      <th>frameIdx</th>\n",
       "      <th>seqDumpTime</th>\n",
       "      <th>pilotID</th>\n",
       "      <th>taskID</th>\n",
       "      <th>trialCount</th>\n",
       "    </tr>\n",
       "  </thead>\n",
       "  <tbody>\n",
       "    <tr>\n",
       "      <th>0</th>\n",
       "      <td>0.337567</td>\n",
       "      <td>0.411096</td>\n",
       "      <td>1</td>\n",
       "      <td>1</td>\n",
       "      <td>1</td>\n",
       "      <td>75063.712102</td>\n",
       "      <td>17</td>\n",
       "      <td>1</td>\n",
       "      <td>1</td>\n",
       "    </tr>\n",
       "    <tr>\n",
       "      <th>1</th>\n",
       "      <td>0.362756</td>\n",
       "      <td>0.009781</td>\n",
       "      <td>0</td>\n",
       "      <td>0</td>\n",
       "      <td>1</td>\n",
       "      <td>75063.712102</td>\n",
       "      <td>17</td>\n",
       "      <td>1</td>\n",
       "      <td>1</td>\n",
       "    </tr>\n",
       "    <tr>\n",
       "      <th>2</th>\n",
       "      <td>0.646491</td>\n",
       "      <td>0.330317</td>\n",
       "      <td>0</td>\n",
       "      <td>0</td>\n",
       "      <td>1</td>\n",
       "      <td>75063.712102</td>\n",
       "      <td>17</td>\n",
       "      <td>1</td>\n",
       "      <td>1</td>\n",
       "    </tr>\n",
       "    <tr>\n",
       "      <th>3</th>\n",
       "      <td>0.813617</td>\n",
       "      <td>0.480657</td>\n",
       "      <td>1</td>\n",
       "      <td>1</td>\n",
       "      <td>1</td>\n",
       "      <td>75063.712102</td>\n",
       "      <td>17</td>\n",
       "      <td>1</td>\n",
       "      <td>1</td>\n",
       "    </tr>\n",
       "    <tr>\n",
       "      <th>4</th>\n",
       "      <td>0.210647</td>\n",
       "      <td>0.839180</td>\n",
       "      <td>0</td>\n",
       "      <td>0</td>\n",
       "      <td>1</td>\n",
       "      <td>75063.712102</td>\n",
       "      <td>17</td>\n",
       "      <td>1</td>\n",
       "      <td>1</td>\n",
       "    </tr>\n",
       "  </tbody>\n",
       "</table>\n",
       "</div>"
      ],
      "text/plain": [
       "       xpos      ypos  isActive  isCoherent  frameIdx   seqDumpTime  pilotID  \\\n",
       "0  0.337567  0.411096         1           1         1  75063.712102       17   \n",
       "1  0.362756  0.009781         0           0         1  75063.712102       17   \n",
       "2  0.646491  0.330317         0           0         1  75063.712102       17   \n",
       "3  0.813617  0.480657         1           1         1  75063.712102       17   \n",
       "4  0.210647  0.839180         0           0         1  75063.712102       17   \n",
       "\n",
       "   taskID  trialCount  \n",
       "0       1           1  \n",
       "1       1           1  \n",
       "2       1           1  \n",
       "3       1           1  \n",
       "4       1           1  "
      ]
     },
     "execution_count": 21,
     "metadata": {},
     "output_type": "execute_result"
    }
   ],
   "source": [
    "data.head()"
   ]
  },
  {
   "cell_type": "code",
   "execution_count": 22,
   "metadata": {},
   "outputs": [
    {
     "data": {
      "text/plain": [
       "array([[0.41109633, 0.33756732],\n",
       "       [0.48065728, 0.81361659]])"
      ]
     },
     "execution_count": 22,
     "metadata": {},
     "output_type": "execute_result"
    }
   ],
   "source": [
    "ddb_data[0][0][:2,]"
   ]
  },
  {
   "cell_type": "code",
   "execution_count": 23,
   "metadata": {},
   "outputs": [],
   "source": [
    "parameters = dict(speed=5,density=90,coh_mean=50,coh_stdev=10,direction='right',num_frames=10,diameter=5,\n",
    "                 pixels_per_degree=(55.4612 / 2), dot_size_in_pxs=3)"
   ]
  },
  {
   "cell_type": "code",
   "execution_count": 24,
   "metadata": {},
   "outputs": [],
   "source": [
    "n_trials=len(ddb_data)"
   ]
  },
  {
   "cell_type": "code",
   "execution_count": 25,
   "metadata": {},
   "outputs": [],
   "source": [
    "stimulus = dDB.DotsStimulus(**parameters)"
   ]
  },
  {
   "cell_type": "code",
   "execution_count": 26,
   "metadata": {},
   "outputs": [
    {
     "name": "stdout",
     "output_type": "stream",
     "text": [
      "CPU times: user 281 ms, sys: 14.1 ms, total: 295 ms\n",
      "Wall time: 289 ms\n"
     ]
    }
   ],
   "source": [
    "%%time\n",
    "dDB.write_stimulus_to_file(stimulus, n_trials, db_filename, create_file=True, pre_generated_stimulus=ddb_data)"
   ]
  },
  {
   "cell_type": "code",
   "execution_count": 27,
   "metadata": {},
   "outputs": [
    {
     "data": {
      "text/plain": [
       "{'intlv3_lftTrue_fr60_fs1.1_sp5_ds90_c50_cs10_dright_nf10_dm5_sc2.5_ppd27.7306_dts3_fw152': {'type': 'group',\n",
       "  'attrs': [('coh_mean', 50),\n",
       "   ('coh_stdev', 10),\n",
       "   ('density', 90),\n",
       "   ('diameter', 5),\n",
       "   ('direction', 'right'),\n",
       "   ('dot_size_in_pxs', 3),\n",
       "   ('field_scale', 1.1),\n",
       "   ('frame_rate', 60),\n",
       "   ('frame_width_in_pxs', 152),\n",
       "   ('interleaves', 3),\n",
       "   ('limit_life_time', True),\n",
       "   ('num_frames', 10),\n",
       "   ('pixels_per_degree', 27.7306),\n",
       "   ('speed', 5),\n",
       "   ('stencil_radius_in_vis_angle', 2.5)]},\n",
       " 'intlv3_lftTrue_fr60_fs1.1_sp5_ds90_c50_cs10_dright_nf10_dm5_sc2.5_ppd27.7306_dts3_fw152/px': {'type': 'dataset',\n",
       "  'attrs': [],\n",
       "  'shape': (18,)}}"
      ]
     },
     "execution_count": 27,
     "metadata": {},
     "output_type": "execute_result"
    }
   ],
   "source": [
    "dDB.inspect_db(db_filename)"
   ]
  },
  {
   "cell_type": "code",
   "execution_count": null,
   "metadata": {},
   "outputs": [],
   "source": []
  }
 ],
 "metadata": {
  "kernelspec": {
   "display_name": "Python 3.6 (MotionEnergy)",
   "language": "python",
   "name": "motionenergy"
  },
  "language_info": {
   "codemirror_mode": {
    "name": "ipython",
    "version": 3
   },
   "file_extension": ".py",
   "mimetype": "text/x-python",
   "name": "python",
   "nbconvert_exporter": "python",
   "pygments_lexer": "ipython3",
   "version": "3.6.7"
  },
  "toc": {
   "base_numbering": 1,
   "nav_menu": {},
   "number_sections": true,
   "sideBar": true,
   "skip_h1_title": false,
   "title_cell": "Table of Contents",
   "title_sidebar": "Contents",
   "toc_cell": true,
   "toc_position": {},
   "toc_section_display": true,
   "toc_window_display": true
  }
 },
 "nbformat": 4,
 "nbformat_minor": 2
}
