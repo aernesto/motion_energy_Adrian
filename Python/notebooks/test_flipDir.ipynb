{
 "cells": [
  {
   "cell_type": "markdown",
   "metadata": {
    "toc": true
   },
   "source": [
    "<h1>Table of Contents<span class=\"tocSkip\"></span></h1>\n",
    "<div class=\"toc\"><ul class=\"toc-item\"><li><span><a href=\"#NB-description\" data-toc-modified-id=\"NB-description-1\"><span class=\"toc-item-num\">1&nbsp;&nbsp;</span>NB description</a></span></li><li><span><a href=\"#The-dotsPositions.csv-data\" data-toc-modified-id=\"The-dotsPositions.csv-data-2\"><span class=\"toc-item-num\">2&nbsp;&nbsp;</span>The dotsPositions.csv data</a></span></li><li><span><a href=\"#Write-a-dotsDB-HDF5-file\" data-toc-modified-id=\"Write-a-dotsDB-HDF5-file-3\"><span class=\"toc-item-num\">3&nbsp;&nbsp;</span>Write a dotsDB HDF5 file</a></span><ul class=\"toc-item\"><li><span><a href=\"#Write-HDF5-file\" data-toc-modified-id=\"Write-HDF5-file-3.1\"><span class=\"toc-item-num\">3.1&nbsp;&nbsp;</span>Write HDF5 file</a></span></li></ul></li><li><span><a href=\"#Diagnostic\" data-toc-modified-id=\"Diagnostic-4\"><span class=\"toc-item-num\">4&nbsp;&nbsp;</span>Diagnostic</a></span></li></ul></div>"
   ]
  },
  {
   "cell_type": "markdown",
   "metadata": {},
   "source": [
    "# NB description\n",
    "date: 16 Dec 2019  \n",
    "This notebook contains code that:\n",
    "- builds an HDF5 dotsDB database off of dotsPositions.csv files from the Fall 2019 data (subjects 10-13)"
   ]
  },
  {
   "cell_type": "code",
   "execution_count": 1,
   "metadata": {},
   "outputs": [],
   "source": [
    "import sys\n",
    "import pandas as pd\n",
    "import numpy as np\n",
    "import matplotlib.pyplot as plt\n",
    "import pprint\n",
    "import seaborn as sns\n",
    "import h5py     \n",
    "import os.path\n",
    "\n",
    "# add location of custom modules to path\n",
    "sys.path.insert(0,'../modules/')\n",
    "sys.path.insert(0,'../modules/dots_db/dotsDB/')\n",
    "\n",
    "# custom modules\n",
    "import dotsDB as ddb\n",
    "import motionenergy as kiani_me\n",
    "import stimulus as stim\n",
    "import ME_functions as my_me\n",
    "from basic_functions import *"
   ]
  },
  {
   "cell_type": "markdown",
   "metadata": {},
   "source": [
    "# The dotsPositions.csv data\n",
    "With the current pipeline, on the day of the session, a `.csv` file is written to disk with the FIRA data. Then, in the `motion_energy_Adrian` repo, I have MATLAB functions `reproduce_dots` and `batch_reproduce_dots` that write `_dotsPositions.csv` files to disk (one file per session).\n",
    "\n",
    "The first step here is to loop through the completed sessions, perform a `join` of the dots and fira data, and update a global `.csv` file, as well as session-specific `.csv` files, called `labeled_dots_<timestamp>.csv`."
   ]
  },
  {
   "cell_type": "code",
   "execution_count": null,
   "metadata": {},
   "outputs": [],
   "source": [
    "!find /home/adrian/SingleCP_DotsReversal/Fall2019/raw -name \"*dotsPositions.csv\" -print"
   ]
  },
  {
   "cell_type": "code",
   "execution_count": null,
   "metadata": {},
   "outputs": [],
   "source": [
    "!find /home/adrian/SingleCP_DotsReversal/Fall2019/raw -name \"completed*100*.csv\" -print"
   ]
  },
  {
   "cell_type": "code",
   "execution_count": null,
   "metadata": {},
   "outputs": [],
   "source": [
    "'''\n",
    "list of written data timestamps:\n",
    "'2019_12_11_12_21'\n",
    "\n",
    "list of problematic (old) timestamps that were NOT written\n",
    "'2019_11_05_10_27'  (subject=10 probCP=0.3)\n",
    "'2019_11_06_12_43'\n",
    "'2019_11_05_16_19',\n",
    "'2019_11_20_15_34',\n",
    "'2019_11_19_13_15',\n",
    "'2019_11_05_13_18',\n",
    "'2019_11_26_13_11',\n",
    "'2019_11_25_16_12',\n",
    "'2019_12_12_14_06'\n",
    "'''\n",
    "TIMESTAMPS = ('2019_12_13_13_37',)"
   ]
  },
  {
   "cell_type": "code",
   "execution_count": 2,
   "metadata": {},
   "outputs": [],
   "source": [
    "DATA_FOLDER = '/home/adrian/SingleCP_DotsReversal/Fall2019/raw/'"
   ]
  },
  {
   "cell_type": "markdown",
   "metadata": {},
   "source": [
    "The fira dataframe has index ranging from 0 to 819. The next step is to create a \"foreign key\" to this index into the dots dataframe."
   ]
  },
  {
   "cell_type": "code",
   "execution_count": 3,
   "metadata": {},
   "outputs": [],
   "source": [
    "DOTS_LABELED = '/home/adrian/SingleCP_DotsReversal/Fall2019/processed/test_flipDir.csv'"
   ]
  },
  {
   "cell_type": "code",
   "execution_count": null,
   "metadata": {},
   "outputs": [],
   "source": [
    "def custom_label_dots(timestamps, global_labeled_dots_filename, data_folder):\n",
    "    \"\"\"\n",
    "    fetches dots data outputted by MATLAB (the _dotsPositions.csv files) for specified session timestamps, adds\n",
    "    relevant fira data (join operation) and appends resulting 'labeled_dots' dataframe to the \n",
    "    global_labeled_dots_filename.\n",
    "    :param timestamps: list or tuple of strings of the form '2019_11_05_16_19'\n",
    "    :param global_labeled_dots_filename: string with full path and filename for global .csv file to write to\n",
    "    :param data_folder: string with path to folder '.../raw/' where fira and dotsPositions .csv data reside.\n",
    "    :return: None, but writes to file\n",
    "    \"\"\"\n",
    "    list_of_labeled_dots_dataframes = []\n",
    "    for ts in timestamps:\n",
    "        folder = data_folder + ts + '/'\n",
    "        fira = pd.read_csv(folder + 'completed4AFCtrials_task100_date_' + ts + '.csv')\n",
    "        dots = pd.read_csv(folder + ts + '_dotsPositions.csv')\n",
    "        dots = dots[dots['isActive'] == 1]\n",
    "        del dots['isActive'], dots['taskID'], dots['isCoherent']\n",
    "#         try:\n",
    "#             min_fira, max_fira = fira.index.min(), fira.index.max()\n",
    "#             assert min_fira == 0 and max_fira == 819 and len(fira.index) == 820, f'fira {min_fira}, {max_fira}'\n",
    "            \n",
    "#             min_dots, max_dots = dots['trialIx'].min(), dots['trialIx'].max()\n",
    "#             assert min_dots == 0 and max_dots == 819, f'dots {min_dots}, {max_dots}'\n",
    "#         except AssertionError:\n",
    "#             print(f'assert failed with timestamp {ts}')\n",
    "#             raise\n",
    "        labeled_dots = dots.join(fira, on=\"trialIx\")\n",
    "        labeled_dots['trueVD'] = labeled_dots['dotsOff'] - labeled_dots['dotsOn']\n",
    "        labeled_dots['presenceCP'] = labeled_dots['reversal'] > 0\n",
    "        to_drop = ['trialIndex', 'RT', 'cpRT', 'dirCorrect', 'cpCorrect', \n",
    "            'randSeedBase', 'fixationOn', 'fixationStart', 'targetOn',\n",
    "            'choiceTime', 'cpChoiceTime', 'blankScreen', 'feedbackOn', \n",
    "            'cpScreenOn', 'dummyBlank', 'finalDuration', 'dotsOn', 'dotsOff']\n",
    "        labeled_dots.drop(columns=to_drop, inplace=True)\n",
    "        to_rename = {\n",
    "            'duration': 'viewingDuration',\n",
    "            'direction': 'initDirection',\n",
    "        }\n",
    "        labeled_dots.rename(columns=to_rename, inplace=True)\n",
    "        labeled_dots.dropna(subset=['dirChoice'], inplace=True)\n",
    "        list_of_labeled_dots_dataframes.append(labeled_dots)\n",
    "        \n",
    "    # only write to file if list of dataframes is not empty\n",
    "    if list_of_labeled_dots_dataframes:\n",
    "        full_labeled_dots = pd.concat(list_of_labeled_dots_dataframes)\n",
    "        if os.path.exists(global_labeled_dots_filename):\n",
    "            full_labeled_dots.to_csv(global_labeled_dots_filename, index=False, mode='a+', header=False)\n",
    "        else:\n",
    "            full_labeled_dots.to_csv(global_labeled_dots_filename, index=False, mode='a+', header=True)\n",
    "            \n",
    "    return None"
   ]
  },
  {
   "cell_type": "code",
   "execution_count": null,
   "metadata": {},
   "outputs": [],
   "source": [
    "# this step with write to the DOTS_LABELED file, which contains labeled dots info necessary to dump to HDF5\n",
    "if False:\n",
    "    custom_label_dots(TIMESTAMPS, DOTS_LABELED, DATA_FOLDER)"
   ]
  },
  {
   "cell_type": "markdown",
   "metadata": {},
   "source": [
    "# Write a dotsDB HDF5 file\n",
    "Now that all the dotsPositions.csv data is collected into a single global .csv file, I wish to dump it all into an hdf5 database.\n",
    "\n",
    "Several actions need to be implemented.\n",
    "1. For each trial in the dotsPositions.csv data, I need to know: _coherence_, _viewing duration_, _presenceCP_, _direction_, _subject_, _block_ (_probCP_). For this, I will assume that the `trialEnd` (from FIRA) and `seqDumpTime` (from dotsPositions) timestamps are in the same unit.\n",
    "2. I need to decide how to organize my dotsDB hierarchically. Example is `subj15/probCP0.1/coh0/ansleft/CPno/VD100`"
   ]
  },
  {
   "cell_type": "markdown",
   "metadata": {},
   "source": [
    "So far so good, for a given `seqDumpTime` value, I am able to recover the trial's parameters. All that remains to do is to add columns to the dots dataframe (and remove the `isActive` one)."
   ]
  },
  {
   "cell_type": "markdown",
   "metadata": {},
   "source": [
    "**Following cell is SLOW! Around 30 min**"
   ]
  },
  {
   "cell_type": "markdown",
   "metadata": {},
   "source": [
    "I forgot to record true duration and subject's choice!\n",
    "Rebelote..."
   ]
  },
  {
   "cell_type": "markdown",
   "metadata": {},
   "source": [
    "I should have added `dirChoice` instead of `cpChoice`!!!"
   ]
  },
  {
   "cell_type": "markdown",
   "metadata": {},
   "source": [
    "Now, it turns out some rows have a `nan` value in the `dirChoice` column!\n",
    "I will drop them!"
   ]
  },
  {
   "cell_type": "markdown",
   "metadata": {},
   "source": [
    "## Write HDF5 file\n",
    "Now, I need to write an HDF5 file with the structure:\n",
    "`subj15/probCP0.1/coh0/ansleft/CPno/VD100`.\n",
    "\n",
    "I need to:\n",
    "- loop through the trials contained in the dots DF\n",
    "- port the dots data to dotsDB format\n",
    "- write to file"
   ]
  },
  {
   "cell_type": "code",
   "execution_count": 4,
   "metadata": {},
   "outputs": [],
   "source": [
    "dots = pd.read_csv(DOTS_LABELED)"
   ]
  },
  {
   "cell_type": "code",
   "execution_count": 5,
   "metadata": {},
   "outputs": [
    {
     "data": {
      "text/html": [
       "<div>\n",
       "<style scoped>\n",
       "    .dataframe tbody tr th:only-of-type {\n",
       "        vertical-align: middle;\n",
       "    }\n",
       "\n",
       "    .dataframe tbody tr th {\n",
       "        vertical-align: top;\n",
       "    }\n",
       "\n",
       "    .dataframe thead th {\n",
       "        text-align: right;\n",
       "    }\n",
       "</style>\n",
       "<table border=\"1\" class=\"dataframe\">\n",
       "  <thead>\n",
       "    <tr style=\"text-align: right;\">\n",
       "      <th></th>\n",
       "      <th>xpos</th>\n",
       "      <th>ypos</th>\n",
       "      <th>frameIdx</th>\n",
       "      <th>trialIx</th>\n",
       "      <th>taskID</th>\n",
       "      <th>trialStart</th>\n",
       "      <th>trialEnd</th>\n",
       "      <th>dirChoice</th>\n",
       "      <th>cpChoice</th>\n",
       "      <th>initDirection</th>\n",
       "      <th>coherence</th>\n",
       "      <th>finalCPTime</th>\n",
       "      <th>subject</th>\n",
       "      <th>date</th>\n",
       "      <th>probCP</th>\n",
       "      <th>reversal</th>\n",
       "      <th>viewingDuration</th>\n",
       "      <th>trueVD</th>\n",
       "      <th>presenceCP</th>\n",
       "    </tr>\n",
       "  </thead>\n",
       "  <tbody>\n",
       "    <tr>\n",
       "      <th>0</th>\n",
       "      <td>0.257369</td>\n",
       "      <td>0.794932</td>\n",
       "      <td>1</td>\n",
       "      <td>1</td>\n",
       "      <td>100</td>\n",
       "      <td>2.599561e+06</td>\n",
       "      <td>2.599563e+06</td>\n",
       "      <td>0.0</td>\n",
       "      <td>1.0</td>\n",
       "      <td>0</td>\n",
       "      <td>14</td>\n",
       "      <td>0.237288</td>\n",
       "      <td>99.0</td>\n",
       "      <td>2.019121e+11</td>\n",
       "      <td>0.3</td>\n",
       "      <td>0.2</td>\n",
       "      <td>0.25</td>\n",
       "      <td>0.254237</td>\n",
       "      <td>True</td>\n",
       "    </tr>\n",
       "    <tr>\n",
       "      <th>1</th>\n",
       "      <td>0.981974</td>\n",
       "      <td>0.196844</td>\n",
       "      <td>1</td>\n",
       "      <td>1</td>\n",
       "      <td>100</td>\n",
       "      <td>2.599561e+06</td>\n",
       "      <td>2.599563e+06</td>\n",
       "      <td>0.0</td>\n",
       "      <td>1.0</td>\n",
       "      <td>0</td>\n",
       "      <td>14</td>\n",
       "      <td>0.237288</td>\n",
       "      <td>99.0</td>\n",
       "      <td>2.019121e+11</td>\n",
       "      <td>0.3</td>\n",
       "      <td>0.2</td>\n",
       "      <td>0.25</td>\n",
       "      <td>0.254237</td>\n",
       "      <td>True</td>\n",
       "    </tr>\n",
       "    <tr>\n",
       "      <th>2</th>\n",
       "      <td>0.927031</td>\n",
       "      <td>0.055318</td>\n",
       "      <td>1</td>\n",
       "      <td>1</td>\n",
       "      <td>100</td>\n",
       "      <td>2.599561e+06</td>\n",
       "      <td>2.599563e+06</td>\n",
       "      <td>0.0</td>\n",
       "      <td>1.0</td>\n",
       "      <td>0</td>\n",
       "      <td>14</td>\n",
       "      <td>0.237288</td>\n",
       "      <td>99.0</td>\n",
       "      <td>2.019121e+11</td>\n",
       "      <td>0.3</td>\n",
       "      <td>0.2</td>\n",
       "      <td>0.25</td>\n",
       "      <td>0.254237</td>\n",
       "      <td>True</td>\n",
       "    </tr>\n",
       "    <tr>\n",
       "      <th>3</th>\n",
       "      <td>0.523046</td>\n",
       "      <td>0.118572</td>\n",
       "      <td>1</td>\n",
       "      <td>1</td>\n",
       "      <td>100</td>\n",
       "      <td>2.599561e+06</td>\n",
       "      <td>2.599563e+06</td>\n",
       "      <td>0.0</td>\n",
       "      <td>1.0</td>\n",
       "      <td>0</td>\n",
       "      <td>14</td>\n",
       "      <td>0.237288</td>\n",
       "      <td>99.0</td>\n",
       "      <td>2.019121e+11</td>\n",
       "      <td>0.3</td>\n",
       "      <td>0.2</td>\n",
       "      <td>0.25</td>\n",
       "      <td>0.254237</td>\n",
       "      <td>True</td>\n",
       "    </tr>\n",
       "    <tr>\n",
       "      <th>4</th>\n",
       "      <td>0.167512</td>\n",
       "      <td>0.929400</td>\n",
       "      <td>1</td>\n",
       "      <td>1</td>\n",
       "      <td>100</td>\n",
       "      <td>2.599561e+06</td>\n",
       "      <td>2.599563e+06</td>\n",
       "      <td>0.0</td>\n",
       "      <td>1.0</td>\n",
       "      <td>0</td>\n",
       "      <td>14</td>\n",
       "      <td>0.237288</td>\n",
       "      <td>99.0</td>\n",
       "      <td>2.019121e+11</td>\n",
       "      <td>0.3</td>\n",
       "      <td>0.2</td>\n",
       "      <td>0.25</td>\n",
       "      <td>0.254237</td>\n",
       "      <td>True</td>\n",
       "    </tr>\n",
       "  </tbody>\n",
       "</table>\n",
       "</div>"
      ],
      "text/plain": [
       "       xpos      ypos  frameIdx  trialIx  taskID    trialStart      trialEnd  \\\n",
       "0  0.257369  0.794932         1        1     100  2.599561e+06  2.599563e+06   \n",
       "1  0.981974  0.196844         1        1     100  2.599561e+06  2.599563e+06   \n",
       "2  0.927031  0.055318         1        1     100  2.599561e+06  2.599563e+06   \n",
       "3  0.523046  0.118572         1        1     100  2.599561e+06  2.599563e+06   \n",
       "4  0.167512  0.929400         1        1     100  2.599561e+06  2.599563e+06   \n",
       "\n",
       "   dirChoice  cpChoice  initDirection  coherence  finalCPTime  subject  \\\n",
       "0        0.0       1.0              0         14     0.237288     99.0   \n",
       "1        0.0       1.0              0         14     0.237288     99.0   \n",
       "2        0.0       1.0              0         14     0.237288     99.0   \n",
       "3        0.0       1.0              0         14     0.237288     99.0   \n",
       "4        0.0       1.0              0         14     0.237288     99.0   \n",
       "\n",
       "           date  probCP  reversal  viewingDuration    trueVD  presenceCP  \n",
       "0  2.019121e+11     0.3       0.2             0.25  0.254237        True  \n",
       "1  2.019121e+11     0.3       0.2             0.25  0.254237        True  \n",
       "2  2.019121e+11     0.3       0.2             0.25  0.254237        True  \n",
       "3  2.019121e+11     0.3       0.2             0.25  0.254237        True  \n",
       "4  2.019121e+11     0.3       0.2             0.25  0.254237        True  "
      ]
     },
     "execution_count": 5,
     "metadata": {},
     "output_type": "execute_result"
    }
   ],
   "source": [
    "dots.head()"
   ]
  },
  {
   "cell_type": "code",
   "execution_count": 6,
   "metadata": {},
   "outputs": [
    {
     "data": {
      "text/plain": [
       "(111985, 19)"
      ]
     },
     "execution_count": 6,
     "metadata": {},
     "output_type": "execute_result"
    }
   ],
   "source": [
    "dots.shape"
   ]
  },
  {
   "cell_type": "code",
   "execution_count": 7,
   "metadata": {},
   "outputs": [
    {
     "data": {
      "text/plain": [
       "Index(['xpos', 'ypos', 'frameIdx', 'trialIx', 'taskID', 'trialStart',\n",
       "       'trialEnd', 'dirChoice', 'cpChoice', 'initDirection', 'coherence',\n",
       "       'finalCPTime', 'subject', 'date', 'probCP', 'reversal',\n",
       "       'viewingDuration', 'trueVD', 'presenceCP'],\n",
       "      dtype='object')"
      ]
     },
     "execution_count": 7,
     "metadata": {},
     "output_type": "execute_result"
    }
   ],
   "source": [
    "dots.columns"
   ]
  },
  {
   "cell_type": "code",
   "execution_count": null,
   "metadata": {},
   "outputs": [],
   "source": [
    "# important to only select the dates that we want to write to the HDF5 file\n",
    "dots = dots[dots['date'] == 201912121406]"
   ]
  },
  {
   "cell_type": "code",
   "execution_count": 8,
   "metadata": {},
   "outputs": [],
   "source": [
    "gb = dots.groupby('trialEnd')  # recall gb.get_group() and gb['frameIdx'].max()"
   ]
  },
  {
   "cell_type": "markdown",
   "metadata": {},
   "source": [
    "At this stage, I would like to know the max value of `frameIdx` in each trial."
   ]
  },
  {
   "cell_type": "markdown",
   "metadata": {},
   "source": [
    "Following cell takes a bit under 9 min"
   ]
  },
  {
   "cell_type": "code",
   "execution_count": 9,
   "metadata": {},
   "outputs": [],
   "source": [
    "# Recall func is called twice the first time!\n",
    "h5_filename = '/home/adrian/SingleCP_DotsReversal/Fall2019/processed/test_flipDir.h5'\n",
    "if True:  # just a failsafe not to run this cell by mistake\n",
    "    _ = gb.apply(write_dots_to_file, h5_filename)\n",
    "    \n",
    "    # need to go in manually and delete the first entry in the dataset corresponding to \n",
    "    # the first group element gb.groups.keys()[0] \n",
    "    single_row = dots[dots['trialEnd']==list(gb.groups.keys())[0]]\n",
    "    pb_dset_name, vals = get_group_name(single_row)\n",
    "    pb_dset_name += '/px'\n",
    "    f = h5py.File(h5_filename, 'r+')  # read/write\n",
    "    d = f[pb_dset_name]\n",
    "    d = d[1:]  # override first trial\n",
    "    f.__delitem__(pb_dset_name)\n",
    "    f[pb_dset_name] = d\n",
    "    f.close()"
   ]
  },
  {
   "cell_type": "code",
   "execution_count": null,
   "metadata": {},
   "outputs": [],
   "source": [
    "# tend = list(gb.groups.keys())[0]\n",
    "fira = pd.read_csv(DATA_FOLDER + 'full_2019_12_12.csv')\n",
    "fira.head()"
   ]
  },
  {
   "cell_type": "code",
   "execution_count": null,
   "metadata": {},
   "outputs": [],
   "source": [
    "fira[fira['date'] == 201911261311]['probCP'].unique()"
   ]
  },
  {
   "cell_type": "code",
   "execution_count": null,
   "metadata": {},
   "outputs": [],
   "source": [
    "fira['direction'].unique()"
   ]
  },
  {
   "cell_type": "code",
   "execution_count": null,
   "metadata": {},
   "outputs": [],
   "source": [
    "fira['dirChoice'].unique()"
   ]
  },
  {
   "cell_type": "code",
   "execution_count": null,
   "metadata": {},
   "outputs": [],
   "source": [
    "fira[fira['trialEnd'] == tend][['subject', 'dirChoice', 'duration', 'probCP', 'direction', 'coherence', 'reversal']]"
   ]
  },
  {
   "cell_type": "code",
   "execution_count": null,
   "metadata": {},
   "outputs": [],
   "source": [
    "fira.dtypes"
   ]
  },
  {
   "cell_type": "code",
   "execution_count": null,
   "metadata": {},
   "outputs": [],
   "source": [
    "fira[\n",
    "    (fira['subject'] == 10) & \n",
    "    (fira['probCP'] == 0.7) & \n",
    "    (fira['coherence'] == 61) & \n",
    "    (fira['dirChoice'] == 1) & \n",
    "    (fira['reversal'] == 0.2) & \n",
    "    (fira['duration'] == .4) & \n",
    "    (fira['direction'] == 0)\n",
    "]"
   ]
  },
  {
   "cell_type": "code",
   "execution_count": null,
   "metadata": {},
   "outputs": [],
   "source": [
    "print(pb_dset_name[1:])\n",
    "print(count_trials_fira(pb_dset_name[1:], fira))"
   ]
  },
  {
   "cell_type": "markdown",
   "metadata": {},
   "source": [
    "The fact that only 4 trials correspond to the dataset for which the HDF5 length was doubled during the dump procedure is worrying."
   ]
  },
  {
   "cell_type": "code",
   "execution_count": null,
   "metadata": {},
   "outputs": [],
   "source": [
    "particular_dset = dots[\n",
    "    (dots['subject'] == 10) & (dots['probCP'] == 0.7) & (dots['coherence'] == 61) \\\n",
    "    & (dots['dirChoice'] == 0) & (dots['reversal'] == 0.2) & (dots['viewingDuration'] == .4) & \\\n",
    "    (dots['initDirection'] == 0)\n",
    "]"
   ]
  },
  {
   "cell_type": "code",
   "execution_count": null,
   "metadata": {},
   "outputs": [],
   "source": [
    "particular_dset.head()"
   ]
  },
  {
   "cell_type": "code",
   "execution_count": null,
   "metadata": {},
   "outputs": [],
   "source": [
    "particular_dset.shape"
   ]
  },
  {
   "cell_type": "code",
   "execution_count": null,
   "metadata": {},
   "outputs": [],
   "source": [
    "particular_dset['trialIx'].unique()"
   ]
  },
  {
   "cell_type": "markdown",
   "metadata": {},
   "source": [
    "# Diagnostic"
   ]
  },
  {
   "cell_type": "code",
   "execution_count": null,
   "metadata": {},
   "outputs": [],
   "source": [
    "not(any([len(dd) for dd in d[-47:]]))"
   ]
  },
  {
   "cell_type": "code",
   "execution_count": null,
   "metadata": {},
   "outputs": [],
   "source": [
    "first_fifty_three = [len(dd) for dd in d[:53]]\n",
    "all(first_fifty_three)"
   ]
  },
  {
   "cell_type": "code",
   "execution_count": null,
   "metadata": {},
   "outputs": [],
   "source": [
    "print('min ', min(first_fifty_three), ' max ', max(first_fifty_three))"
   ]
  },
  {
   "cell_type": "code",
   "execution_count": null,
   "metadata": {},
   "outputs": [],
   "source": [
    "a=f[pb_dset_name[:-3]]"
   ]
  },
  {
   "cell_type": "code",
   "execution_count": null,
   "metadata": {},
   "outputs": [],
   "source": [
    "(a.attrs['frame_width_in_pxs'] ** 2) * round(.4 * 60)"
   ]
  },
  {
   "cell_type": "code",
   "execution_count": null,
   "metadata": {},
   "outputs": [],
   "source": [
    "(a.attrs['frame_width_in_pxs'] ** 2) * round(.437 * 60)"
   ]
  },
  {
   "cell_type": "markdown",
   "metadata": {},
   "source": [
    "The last 47 items in the problematic dataset are empty and the first 53 are not. Each trial has a number of frames corresponding to some duration between 400 and 437 msec."
   ]
  },
  {
   "cell_type": "code",
   "execution_count": null,
   "metadata": {},
   "outputs": [],
   "source": []
  },
  {
   "cell_type": "markdown",
   "metadata": {},
   "source": [
    "It appears that 2 out of the three unique trials in the dataset (one of them is trivially 0) were duplicated between 16 and 34 times!\n",
    "\n",
    "Did this happen with other datasets?"
   ]
  },
  {
   "cell_type": "code",
   "execution_count": null,
   "metadata": {},
   "outputs": [],
   "source": [
    "# This cell takes 1 or 2 min to run with subjects 10-13\n",
    "f = h5py.File(h5_filename, 'r')\n",
    "dsets = {}\n",
    "def count_meta(name, obj):\n",
    "    if isinstance(obj, h5py.Dataset):\n",
    "        print(name)\n",
    "        dsets[name] = count_duplicates(obj)\n",
    "    return None\n",
    "f.visititems(count_meta)"
   ]
  },
  {
   "cell_type": "code",
   "execution_count": null,
   "metadata": {},
   "outputs": [],
   "source": [
    "len(dsets)"
   ]
  },
  {
   "cell_type": "code",
   "execution_count": null,
   "metadata": {},
   "outputs": [],
   "source": [
    "dupes_exist = 0\n",
    "num_dupes = []\n",
    "min_repeat, max_repeat = [], []\n",
    "for stats in dsets.values():\n",
    "    if stats[1]:\n",
    "        dupes_exist += 1\n",
    "        min_repeat.append(min([v for v in stats[0].values() if v > 1]))\n",
    "        max_repeat.append(max([v for v in stats[0].values() if v > 1]))\n",
    "        num_dupes.append(len(stats[1]))\n",
    "print(f'dupes exist in {dupes_exist} out of {len(dsets)} datasets')"
   ]
  },
  {
   "cell_type": "code",
   "execution_count": null,
   "metadata": {},
   "outputs": [],
   "source": [
    "print(min(num_dupes), max(num_dupes))"
   ]
  },
  {
   "cell_type": "code",
   "execution_count": null,
   "metadata": {},
   "outputs": [],
   "source": [
    "plt.hist(num_dupes);\n",
    "plt.title('number of duplicates within a dataset');\n",
    "plt.ylabel('Count');"
   ]
  },
  {
   "cell_type": "markdown",
   "metadata": {},
   "source": [
    "It appears duplicates exist in several hundreds datasets. This is worrying :("
   ]
  },
  {
   "cell_type": "code",
   "execution_count": null,
   "metadata": {},
   "outputs": [],
   "source": [
    "plt.hist(min_repeat);\n",
    "plt.title('Min number of repeats for single trial within a dataset');\n",
    "plt.ylabel('Count');"
   ]
  },
  {
   "cell_type": "code",
   "execution_count": null,
   "metadata": {},
   "outputs": [],
   "source": [
    "plt.hist(max_repeat);\n",
    "plt.title('Max number of repeats for single trial within a dataset');\n",
    "plt.ylabel('Count');"
   ]
  },
  {
   "cell_type": "markdown",
   "metadata": {},
   "source": [
    "And when repeats occur, they occur quite a lot!"
   ]
  },
  {
   "cell_type": "markdown",
   "metadata": {},
   "source": [
    "The next step would be to carefully count the number of trials per condition in FIRA, in DOTS and in dotsDB, and analyze the match/mismatch."
   ]
  },
  {
   "cell_type": "markdown",
   "metadata": {},
   "source": [
    "Counting trials in three databases (fira + dots + dotsDB) in the cell below takes 20 min."
   ]
  },
  {
   "cell_type": "code",
   "execution_count": null,
   "metadata": {},
   "outputs": [],
   "source": [
    "# By this cell, make sure 'dots', 'fira' and 'dsets' are defined.\n",
    "# dots and fira are pandas.DataFrame objects, dsets is the dict of counts\n",
    "# The goal here is to build a dataframe with three columns: dots, fira, h5.\n",
    "# Each row in this dataframe is a particular dataset in the hdf5 database\n",
    "# each entry is the trial count for this particular dataset\n",
    "\n",
    "\n",
    "index_as_list, dicts = [], []\n",
    "counter = 0\n",
    "for name in dsets:\n",
    "    counter += 1\n",
    "    if (counter % 10) == 0:\n",
    "        print(counter)\n",
    "    index_as_list.append(name)\n",
    "    curr_dict = {}\n",
    "    h5_count = count_h5(dsets[name][0])\n",
    "    curr_dict['h5'] = h5_count\n",
    "    if (counter % 10) == 0:\n",
    "        print(f'counted h5 {h5_count}')\n",
    "        \n",
    "    fira_count = count_trials_fira(name, fira)\n",
    "    curr_dict['fira'] = fira_count\n",
    "    if (counter % 10) == 0:\n",
    "        print(f'counted fira {fira_count}')\n",
    "        \n",
    "    dots_count = count_trials_dots(name, dots)\n",
    "    curr_dict['dots'] = dots_count\n",
    "    if (counter % 10) == 0:\n",
    "        print(f'counted dots {dots_count}')\n",
    "        print()\n",
    "        \n",
    "    dicts.append(curr_dict)\n",
    "counts = pd.DataFrame(dicts, index=index_as_list)"
   ]
  },
  {
   "cell_type": "code",
   "execution_count": null,
   "metadata": {},
   "outputs": [],
   "source": [
    "plt.plot(range(len(index_as_list)), counts['h5'], label='h5')\n",
    "plt.plot(range(len(index_as_list)), counts['fira'], label='fira')\n",
    "plt.plot(range(len(index_as_list)), counts['dots'], label='dots')\n",
    "plt.legend()"
   ]
  },
  {
   "cell_type": "code",
   "execution_count": null,
   "metadata": {},
   "outputs": [],
   "source": [
    "h5_vs_fira = counts[counts['h5'] != counts['fira']].copy()"
   ]
  },
  {
   "cell_type": "code",
   "execution_count": null,
   "metadata": {},
   "outputs": [],
   "source": [
    "any(counts['fira'] != counts['dots'])"
   ]
  },
  {
   "cell_type": "code",
   "execution_count": null,
   "metadata": {},
   "outputs": [],
   "source": [
    "h5_vs_fira"
   ]
  },
  {
   "cell_type": "code",
   "execution_count": null,
   "metadata": {},
   "outputs": [],
   "source": [
    "counts"
   ]
  },
  {
   "cell_type": "code",
   "execution_count": null,
   "metadata": {},
   "outputs": [],
   "source": []
  }
 ],
 "metadata": {
  "kernelspec": {
   "display_name": "Python 3.6 (MotionEnergy)",
   "language": "python",
   "name": "motionenergy"
  },
  "language_info": {
   "codemirror_mode": {
    "name": "ipython",
    "version": 3
   },
   "file_extension": ".py",
   "mimetype": "text/x-python",
   "name": "python",
   "nbconvert_exporter": "python",
   "pygments_lexer": "ipython3",
   "version": "3.6.7"
  },
  "latex_envs": {
   "LaTeX_envs_menu_present": true,
   "autoclose": false,
   "autocomplete": true,
   "bibliofile": "biblio.bib",
   "cite_by": "apalike",
   "current_citInitial": 1,
   "eqLabelWithNumbers": true,
   "eqNumInitial": 1,
   "hotkeys": {
    "equation": "Ctrl-E",
    "itemize": "Ctrl-I"
   },
   "labels_anchors": false,
   "latex_user_defs": false,
   "report_style_numbering": false,
   "user_envs_cfg": false
  },
  "toc": {
   "base_numbering": 1,
   "nav_menu": {},
   "number_sections": true,
   "sideBar": true,
   "skip_h1_title": false,
   "title_cell": "Table of Contents",
   "title_sidebar": "Contents",
   "toc_cell": true,
   "toc_position": {
    "height": "calc(100% - 180px)",
    "left": "10px",
    "top": "150px",
    "width": "165px"
   },
   "toc_section_display": true,
   "toc_window_display": false
  }
 },
 "nbformat": 4,
 "nbformat_minor": 2
}
