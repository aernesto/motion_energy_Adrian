{
 "cells": [
  {
   "cell_type": "code",
   "execution_count": 1,
   "metadata": {},
   "outputs": [],
   "source": [
    "from IPython.display import HTML"
   ]
  },
  {
   "cell_type": "code",
   "execution_count": 2,
   "metadata": {},
   "outputs": [
    {
     "data": {
      "text/html": [
       "\n",
       "    <script>\n",
       "    code_show=true; \n",
       "    function code_toggle() {\n",
       "     if (code_show){\n",
       "     $('div.input').hide();\n",
       "     } else {\n",
       "     $('div.input').show();\n",
       "     }\n",
       "     code_show = !code_show\n",
       "    } \n",
       "    $( document ).ready(code_toggle);\n",
       "    </script>\n",
       "    <a href=\"javascript:code_toggle()\">TOGGLE CODE ON/OFF</a>\n",
       "    "
      ],
      "text/plain": [
       "<IPython.core.display.HTML object>"
      ]
     },
     "execution_count": 2,
     "metadata": {},
     "output_type": "execute_result"
    }
   ],
   "source": [
    "HTML(\n",
    "    '''\n",
    "    <script>\n",
    "    code_show=true; \n",
    "    function code_toggle() {\n",
    "     if (code_show){\n",
    "     $('div.input').hide();\n",
    "     } else {\n",
    "     $('div.input').show();\n",
    "     }\n",
    "     code_show = !code_show\n",
    "    } \n",
    "    $( document ).ready(code_toggle);\n",
    "    </script>\n",
    "    <a href=\"javascript:code_toggle()\">TOGGLE CODE ON/OFF</a>\n",
    "    '''\n",
    ")"
   ]
  },
  {
   "cell_type": "markdown",
   "metadata": {
    "toc": true
   },
   "source": [
    "<h1>Table of Contents<span class=\"tocSkip\"></span></h1>\n",
    "<div class=\"toc\"><ul class=\"toc-item\"></ul></div>"
   ]
  },
  {
   "cell_type": "markdown",
   "metadata": {},
   "source": [
    "**Aim of notebook**:  \n",
    "Run ME filters from Kiani's lab on dots stimulus from my dots_db module."
   ]
  },
  {
   "cell_type": "markdown",
   "metadata": {},
   "source": [
    "**Theoretical steps:**  \n",
    "1. import dots_db and Kiani's ME modules\n",
    "2. extract a trial from the db\n",
    "3. create ME filters\n",
    "4. apply filters to stimulus \n",
    "5. display ME"
   ]
  },
  {
   "cell_type": "code",
   "execution_count": 3,
   "metadata": {},
   "outputs": [],
   "source": [
    "import sys\n",
    "# add location of modules to path\n",
    "sys.path.insert(0,'../modules/')\n",
    "sys.path.insert(0,'../modules/dots_db/dotsDB/')\n",
    "# add location of data to path\n",
    "# sys.path.insert(0,'../../data/')\n",
    "# sys.path.insert(0,'../modules/dots_db/data/')"
   ]
  },
  {
   "cell_type": "code",
   "execution_count": 4,
   "metadata": {},
   "outputs": [],
   "source": [
    "import matplotlib.pyplot as plt\n",
    "import numpy as np\n",
    "# import pandas as pd\n",
    "import h5py\n",
    "import dotsDB as ddb\n",
    "import motionenergy as kiani_me\n",
    "import stimulus as stim\n",
    "import ME_functions as my_me"
   ]
  },
  {
   "cell_type": "code",
   "execution_count": 5,
   "metadata": {},
   "outputs": [
    {
     "data": {
      "text/plain": [
       "<Figure size 432x288 with 0 Axes>"
      ]
     },
     "metadata": {},
     "output_type": "display_data"
    }
   ],
   "source": [
    "# plotting options\n",
    "%matplotlib inline\n",
    "TITLE_FS = 22\n",
    "AXES_FS = 22\n",
    "\n",
    "plt.rcParams.update({'font.size': AXES_FS}) # font size on axes\n",
    "plt.subplots_adjust(wspace=0.5) # horizontal space between panels"
   ]
  },
  {
   "cell_type": "markdown",
   "metadata": {},
   "source": [
    "Step 1 completed by now."
   ]
  },
  {
   "cell_type": "code",
   "execution_count": 6,
   "metadata": {},
   "outputs": [],
   "source": [
    "def list_group_names_in_dots_db(path_to_file):\n",
    "    \"\"\"\n",
    "    Lists 1st level group names in hdf5 file\n",
    "    This function opens the hdf5 in read-only mode and then closes it (context manager is used)\n",
    "    \n",
    "    :param path_to_file: string with absolute path to hdf5 file\n",
    "    :return: list of strings representing group names\n",
    "    \"\"\"\n",
    "    list_of_group_names = []\n",
    "    with h5py.File(file_path, 'r') as f:\n",
    "        for g in f:\n",
    "            list_of_group_names.append(g)\n",
    "    return list_of_group_names"
   ]
  },
  {
   "cell_type": "code",
   "execution_count": 7,
   "metadata": {},
   "outputs": [
    {
     "name": "stdout",
     "output_type": "stream",
     "text": [
      "['intlv3_lftTrue_fr60_fs1.1_sp5_ds90_c50_cs10_dleft_nf6_dm5_sc2.5_ppd55.4612_dts6_fw305']\n"
     ]
    }
   ],
   "source": [
    "file_path = '../modules/dots_db/data/test.h5'\n",
    "L = list_group_names_in_dots_db(file_path)\n",
    "print(L)"
   ]
  },
  {
   "cell_type": "code",
   "execution_count": 8,
   "metadata": {},
   "outputs": [],
   "source": [
    "# let's get the group name of the first group\n",
    "gname = L[0]"
   ]
  },
  {
   "cell_type": "code",
   "execution_count": 9,
   "metadata": {},
   "outputs": [],
   "source": [
    "def extract_trial_as_3d_array(path_to_file, group_name, trial_number):\n",
    "    \"\"\"\n",
    "    extracts a specific trial from the database and returns it as a 3D matrix of pixel frames\n",
    "    Uses context manager to open the file in read-only mode\n",
    "    \n",
    "    :param path_to_file: string with absolute path to hdf5 file\n",
    "    :param group_name: string for name of group in hdf5 file\n",
    "    :param trial_number: number for the trial to extract\n",
    "    :return: 3D numpy array, first two dims for pixels, last dim for frames\n",
    "    \"\"\"\n",
    "    with h5py.File(path_to_file, 'r') as f:\n",
    "        g = f[group_name]\n",
    "        s = g['px']\n",
    "        npx = g.attrs['frame_width_in_pxs']\n",
    "        nf = g.attrs['num_frames']\n",
    "#         fr = g.attrs['frame_rate']\n",
    "        trial = s[trial_number-1,:]\n",
    "    return trial.reshape((npx, npx, nf), order=\"F\")"
   ]
  },
  {
   "cell_type": "code",
   "execution_count": 10,
   "metadata": {},
   "outputs": [],
   "source": [
    "trial = extract_trial_as_3d_array(file_path, gname, 1)"
   ]
  },
  {
   "cell_type": "code",
   "execution_count": 11,
   "metadata": {},
   "outputs": [
    {
     "data": {
      "image/png": "[encoded data removed]",
      "text/plain": [
       "<Figure size 1296x864 with 6 Axes>"
      ]
     },
     "metadata": {
      "needs_background": "light"
     },
     "output_type": "display_data"
    }
   ],
   "source": [
    "plt.rcParams[\"figure.figsize\"] = (18, 12) # (w, h) # figure size \n",
    "fig, axs = plt.subplots(3, 2)\n",
    "\n",
    "# the following dict conveniently maps frame number to subplot indices,\n",
    "# in order to display two frames next to each other whenever one is the 'successor' from the other\n",
    "# i.e., frames 1 and 4 together, then 2 and 5, etc.\n",
    "frame_to_subplot = {\n",
    "    0: (0, 0),\n",
    "    3: (0, 1),\n",
    "    1: (1, 0),\n",
    "    4: (1, 1),\n",
    "    2: (2, 0),\n",
    "    5: (2, 1)\n",
    "}\n",
    "\n",
    "for frame in range(trial.shape[2]):\n",
    "    subplot_idx = frame_to_subplot[frame]\n",
    "    axs[subplot_idx].imshow(trial[:,:,frame])\n",
    "#     axs[1, 1].set_aspect('equal', 'box')\n",
    "    axs[subplot_idx].set_title(f\"frame {frame + 1}\", fontsize=TITLE_FS)\n",
    "\n",
    "fig.tight_layout()\n",
    "\n",
    "# plt.show()"
   ]
  },
  {
   "cell_type": "markdown",
   "metadata": {},
   "source": [
    "Step 2 completed by now"
   ]
  }
 ],
 "metadata": {
  "kernelspec": {
   "display_name": "Python 3.6 (MotionEnergy)",
   "language": "python",
   "name": "motionenergy"
  },
  "language_info": {
   "codemirror_mode": {
    "name": "ipython",
    "version": 3
   },
   "file_extension": ".py",
   "mimetype": "text/x-python",
   "name": "python",
   "nbconvert_exporter": "python",
   "pygments_lexer": "ipython3",
   "version": "3.6.7"
  },
  "toc": {
   "base_numbering": 1,
   "nav_menu": {},
   "number_sections": true,
   "sideBar": true,
   "skip_h1_title": false,
   "title_cell": "Table of Contents",
   "title_sidebar": "Contents",
   "toc_cell": true,
   "toc_position": {},
   "toc_section_display": true,
   "toc_window_display": true
  }
 },
 "nbformat": 4,
 "nbformat_minor": 2
}
