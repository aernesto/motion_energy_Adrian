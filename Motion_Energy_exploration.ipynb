{
 "cells": [
  {
   "cell_type": "markdown",
   "metadata": {},
   "source": [
    "Note: the css style for this notebook lives in `~/.jupyter/custom/custom.css`.\n",
    "\n",
    "# Purpose of notebook\n",
    "I want to try out here a very simple definition of motion energy for the random dots stimulus.\n",
    "\n",
    "I will first test this definition with 1D stimuli, and if things work out well, I'll move on to 2D stimuli.\n",
    "\n",
    "**Notation:** Capital letter are usually reserved for vectors, whereas lower-case letters are used to denote entries within a vector. So $A=(a_i)_{1\\leq i\\leq n}$ for instance.\n",
    "\n",
    "# One-dimensional stimulus\n",
    "Consider a 1D grid with $N$ contiguous cells. I index time with the letter $t$. Time is discrete here and starts at 0.\n",
    "## State vectors\n",
    "Let $X(t)$ denote the state vector of the system at time $t$. The entries $x_i(t), 1\\leq i \\leq N$ of this vector contain the particle count of cell $i$.\n",
    "\n",
    "Numerically, with 1D space, the whole \"movie\" can be stored in a $T+1$-by-$N$ matrix.\n",
    "## Displacement vectors\n",
    "Given two consecutive time steps, we define the displacement vector $\\dot{X}(t):=X(t)-X(t-1)$ as the difference between the two consecutive state vectors.\n",
    "\n",
    "If $0\\leq t\\leq T\\in \\mathbb{N}$, then $\\dot{X}(t)$ may *only* be computed for $1\\leq t \\leq T$.\n",
    "\n",
    "As for the state vectors. Stacking displacement row vectors on top of each other yields a *displacement matrix*.\n",
    "## Movement vectors\n",
    "The movement vector $M(t)$ has $N-1$ entries defined as the \"right space derivative\" of the displacement vector, *only taken around existing particles*. This last remark is important, as it prevents movement from being perceived/recorded around cells whose state is stationary. We thus define the entries of the movement vector as follows: $m_n(t):=\\dot{x}_n(t)-\\dot{x}_{n-1}(t)$ if $\\dot{x}_n(t)\\dot{x}_{n-1}(t)\\neq 0$, and $0$ otherwise $(2\\leq n \\leq N, 1\\leq t\\leq T)$. \n",
    "\n",
    "Intuitively, a positive $m_i(t)$ is interpreted as rightward _movement_ between cells $i-1$ and $i$, in the time step $t-1 \\to t$. Similarly, a negative entry is interpreted as leftward movement. Finally, the magnitude of the entry $|m_i(t)|$ is interpreted as the \"strength\" of the movement.\n",
    "\n",
    "As for the state vectors. Stacking movement row vectors on top of each other yields a *movement matrix*.\n",
    "## Motion Energy (custom definition)\n",
    "I propose to define motion energy locally in time as follows.\n",
    "$$ME(t):=\\sum_{n=2}^N m_n(t),\\qquad \\forall 1\\leq t\\leq T$$\n",
    "\n",
    "### Caveats\n",
    "Motion energy as defined above yields debatable results in the following scenario: 2 particles moving at constant speed in the same direction, with a constant offset of 2 between them (so pattern is +-+).\n",
    "## Some examples"
   ]
  },
  {
   "cell_type": "code",
   "execution_count": 1,
   "metadata": {},
   "outputs": [],
   "source": [
    "#%reset\n",
    "from ME_functions import *\n",
    "# following two lines to be able to reimport modules on the fly after editing them\n",
    "# see this post: https://stackoverflow.com/a/4111670\n",
    "import sys\n",
    "import importlib"
   ]
  },
  {
   "cell_type": "code",
   "execution_count": 61,
   "metadata": {},
   "outputs": [
    {
     "data": {
      "text/plain": [
       "<module 'ME_functions' from '/home/adrian/programing/Jupyter/Motion_Energy/ME_functions.py'>"
      ]
     },
     "execution_count": 61,
     "metadata": {},
     "output_type": "execute_result"
    }
   ],
   "source": [
    "# reload custom module if needed (because I just edited it)\n",
    "importlib.reload(sys.modules['ME_functions'])"
   ]
  },
  {
   "cell_type": "code",
   "execution_count": 2,
   "metadata": {},
   "outputs": [],
   "source": [
    "# Fix grid size and time horizon\n",
    "N = 10; T = 20;"
   ]
  },
  {
   "cell_type": "markdown",
   "metadata": {},
   "source": [
    "### Single particle moving rightward"
   ]
  },
  {
   "cell_type": "code",
   "execution_count": 3,
   "metadata": {},
   "outputs": [],
   "source": [
    "# create state matrix\n",
    "stateMatrix = np.zeros((T+1,N),dtype=int)\n",
    "\n",
    "for t in range(T+1):\n",
    "    particleState = np.mod(t,N) # particle wraps around when hitting right boundary\n",
    "    stateMatrix[t,particleState] = 1"
   ]
  },
  {
   "cell_type": "code",
   "execution_count": 4,
   "metadata": {},
   "outputs": [
    {
     "data": {
      "image/png": "[encoded data removed]",
      "text/plain": [
       "<Figure size 432x288 with 1 Axes>"
      ]
     },
     "metadata": {
      "needs_background": "light"
     },
     "output_type": "display_data"
    }
   ],
   "source": [
    "%matplotlib inline\n",
    "ME_time = np.arange(1,T+1)\n",
    "plt.plot(ME_time, custom_ME(stateMatrix))\n",
    "plt.xlabel('time (discrete)')\n",
    "plt.ylabel('ME')\n",
    "_, _ = plt.xticks(np.arange(1,T+1,step=2))"
   ]
  },
  {
   "cell_type": "code",
   "execution_count": 73,
   "metadata": {},
   "outputs": [
    {
     "data": {
      "text/plain": [
       "(-1, 3)"
      ]
     },
     "execution_count": 73,
     "metadata": {},
     "output_type": "execute_result"
    },
    {
     "data": {
      "image/png": "[encoded data removed]",
      "text/plain": [
       "<Figure size 432x288 with 2 Axes>"
      ]
     },
     "metadata": {
      "needs_background": "light"
     },
     "output_type": "display_data"
    }
   ],
   "source": [
    "ME = custom_ME(stateMatrix) # motion energy\n",
    "ME_lb = np.min(ME)-1\n",
    "ME_ub = np.max(ME)+1\n",
    "\n",
    "duration = 2  # duration of clip in seconds\n",
    "totFrames = T + 1 # visit each row of the state matrix once in the clip\n",
    "frameRate = totFrames // duration\n",
    "binSize = duration / totFrames\n",
    "\n",
    "fig, (ax1, ax2) = plt.subplots(1, 2)\n",
    "ax2.clear()\n",
    "ax2.set_xlim(1,T)\n",
    "ax2.set_ylim(ME_lb, ME_ub)"
   ]
  },
  {
   "cell_type": "code",
   "execution_count": 75,
   "metadata": {},
   "outputs": [],
   "source": [
    "_, N = stateMatrix.shape  # N is number of cells\n",
    "x = np.arange(N)+1        # 1D space\n",
    "T = _ - 1                 # T is time horizon (T = number of time steps - 1)\n",
    "frameNumber = map_time_to_frame(t, binSize)    \n",
    "time_idx = map_frame_number_to_time_idx(frameNumber, T)"
   ]
  },
  {
   "cell_type": "code",
   "execution_count": 80,
   "metadata": {},
   "outputs": [],
   "source": [
    "import inspect\n",
    "from moviepy import *"
   ]
  },
  {
   "cell_type": "code",
   "execution_count": 83,
   "metadata": {},
   "outputs": [
    {
     "ename": "AttributeError",
     "evalue": "module 'moviepy.Clip' has no attribute 'make_frame'",
     "output_type": "error",
     "traceback": [
      "\u001b[0;31m---------------------------------------------------------------------------\u001b[0m",
      "\u001b[0;31mAttributeError\u001b[0m                            Traceback (most recent call last)",
      "\u001b[0;32m<ipython-input-83-d6fc461ef8d0>\u001b[0m in \u001b[0;36m<module>\u001b[0;34m\u001b[0m\n\u001b[0;32m----> 1\u001b[0;31m \u001b[0minspect\u001b[0m\u001b[0;34m.\u001b[0m\u001b[0mgetsourcefile\u001b[0m\u001b[0;34m(\u001b[0m\u001b[0mClip\u001b[0m\u001b[0;34m.\u001b[0m\u001b[0mmake_frame\u001b[0m\u001b[0;34m)\u001b[0m\u001b[0;34m\u001b[0m\u001b[0;34m\u001b[0m\u001b[0m\n\u001b[0m",
      "\u001b[0;31mAttributeError\u001b[0m: module 'moviepy.Clip' has no attribute 'make_frame'"
     ]
    }
   ],
   "source": [
    "inspect.getsourcefile(Clip.make_frame)"
   ]
  },
  {
   "cell_type": "code",
   "execution_count": 9,
   "metadata": {},
   "outputs": [],
   "source": [
    "# put this function definition back into ME_functions once it is debugged\n",
    "def make_frame(t, stateMatrix, ME, binSize, fig, ax1, ax2):\n",
    "\n",
    "    # define quantities used later on\n",
    "    _, N = stateMatrix.shape  # N is number of cells\n",
    "    x = np.arange(N)+1        # 1D space\n",
    "    T = _ - 1                 # T is time horizon (T = number of time steps - 1)\n",
    "\n",
    "    frameNumber = map_time_to_frame(t, binSize)    \n",
    "    time_idx = map_frame_number_to_time_idx(frameNumber, T)\n",
    "    \n",
    "    # plot particles\n",
    "    ax1.clear()\n",
    "\n",
    "    xx=x[stateMatrix[time_idx,:]==1]\n",
    "    ax1.plot(xx, 0, 'bo')\n",
    "    ax1.set_ylim(-.5, 0.5)\n",
    "    ax1.set_xlim(0, N+1)\n",
    "    \n",
    "    #ax2.clear()\n",
    "    #if time_idx > 0:  # account for the fact that ME doesn't exist at time = 0\n",
    "    #ax2.plot(frameNumber,ME[time_idx - 1],'bo')\n",
    "\n",
    "    return mplfig_to_npimage(fig)"
   ]
  },
  {
   "cell_type": "code",
   "execution_count": 10,
   "metadata": {},
   "outputs": [
    {
     "ename": "TypeError",
     "evalue": "'numpy.ndarray' object is not callable",
     "output_type": "error",
     "traceback": [
      "\u001b[0;31m---------------------------------------------------------------------------\u001b[0m",
      "\u001b[0;31mTypeError\u001b[0m                                 Traceback (most recent call last)",
      "\u001b[0;32m<ipython-input-10-a5d2211661bb>\u001b[0m in \u001b[0;36m<module>\u001b[0;34m\u001b[0m\n\u001b[1;32m     16\u001b[0m \u001b[0max2\u001b[0m\u001b[0;34m.\u001b[0m\u001b[0mset_ylim\u001b[0m\u001b[0;34m(\u001b[0m\u001b[0mME_lb\u001b[0m\u001b[0;34m,\u001b[0m \u001b[0mME_ub\u001b[0m\u001b[0;34m)\u001b[0m\u001b[0;34m\u001b[0m\u001b[0;34m\u001b[0m\u001b[0m\n\u001b[1;32m     17\u001b[0m \u001b[0;34m\u001b[0m\u001b[0m\n\u001b[0;32m---> 18\u001b[0;31m \u001b[0manimation\u001b[0m \u001b[0;34m=\u001b[0m \u001b[0mVideoClip\u001b[0m\u001b[0;34m(\u001b[0m\u001b[0mmake_frame\u001b[0m\u001b[0;34m(\u001b[0m\u001b[0mt\u001b[0m\u001b[0;34m,\u001b[0m \u001b[0mstateMatrix\u001b[0m\u001b[0;34m,\u001b[0m \u001b[0mME\u001b[0m\u001b[0;34m,\u001b[0m \u001b[0mbinSize\u001b[0m\u001b[0;34m,\u001b[0m \u001b[0mfig\u001b[0m\u001b[0;34m,\u001b[0m \u001b[0max1\u001b[0m\u001b[0;34m,\u001b[0m \u001b[0max2\u001b[0m\u001b[0;34m)\u001b[0m\u001b[0;34m,\u001b[0m \u001b[0mduration\u001b[0m\u001b[0;34m=\u001b[0m\u001b[0mduration\u001b[0m\u001b[0;34m)\u001b[0m\u001b[0;34m\u001b[0m\u001b[0;34m\u001b[0m\u001b[0m\n\u001b[0m\u001b[1;32m     19\u001b[0m \u001b[0mplayAnimation\u001b[0m\u001b[0;34m=\u001b[0m\u001b[0manimation\u001b[0m\u001b[0;34m.\u001b[0m\u001b[0mipython_display\u001b[0m\u001b[0;34m(\u001b[0m\u001b[0mfps\u001b[0m\u001b[0;34m=\u001b[0m\u001b[0mframeRate\u001b[0m\u001b[0;34m,\u001b[0m \u001b[0mloop\u001b[0m\u001b[0;34m=\u001b[0m\u001b[0;32mTrue\u001b[0m\u001b[0;34m,\u001b[0m \u001b[0mautoplay\u001b[0m\u001b[0;34m=\u001b[0m\u001b[0;32mTrue\u001b[0m\u001b[0;34m,\u001b[0m \u001b[0mwidth\u001b[0m\u001b[0;34m=\u001b[0m\u001b[0;36m800\u001b[0m\u001b[0;34m)\u001b[0m\u001b[0;34m\u001b[0m\u001b[0;34m\u001b[0m\u001b[0m\n",
      "\u001b[0;32m~/anaconda3/envs/ME_particle/lib/python3.7/site-packages/moviepy/video/VideoClip.py\u001b[0m in \u001b[0;36m__init__\u001b[0;34m(self, make_frame, ismask, duration, has_constant_size)\u001b[0m\n\u001b[1;32m     84\u001b[0m         \u001b[0;32mif\u001b[0m \u001b[0mmake_frame\u001b[0m \u001b[0;32mis\u001b[0m \u001b[0;32mnot\u001b[0m \u001b[0;32mNone\u001b[0m\u001b[0;34m:\u001b[0m\u001b[0;34m\u001b[0m\u001b[0;34m\u001b[0m\u001b[0m\n\u001b[1;32m     85\u001b[0m             \u001b[0mself\u001b[0m\u001b[0;34m.\u001b[0m\u001b[0mmake_frame\u001b[0m \u001b[0;34m=\u001b[0m \u001b[0mmake_frame\u001b[0m\u001b[0;34m\u001b[0m\u001b[0;34m\u001b[0m\u001b[0m\n\u001b[0;32m---> 86\u001b[0;31m             \u001b[0mself\u001b[0m\u001b[0;34m.\u001b[0m\u001b[0msize\u001b[0m \u001b[0;34m=\u001b[0m \u001b[0mself\u001b[0m\u001b[0;34m.\u001b[0m\u001b[0mget_frame\u001b[0m\u001b[0;34m(\u001b[0m\u001b[0;36m0\u001b[0m\u001b[0;34m)\u001b[0m\u001b[0;34m.\u001b[0m\u001b[0mshape\u001b[0m\u001b[0;34m[\u001b[0m\u001b[0;34m:\u001b[0m\u001b[0;36m2\u001b[0m\u001b[0;34m]\u001b[0m\u001b[0;34m[\u001b[0m\u001b[0;34m:\u001b[0m\u001b[0;34m:\u001b[0m\u001b[0;34m-\u001b[0m\u001b[0;36m1\u001b[0m\u001b[0;34m]\u001b[0m\u001b[0;34m\u001b[0m\u001b[0;34m\u001b[0m\u001b[0m\n\u001b[0m\u001b[1;32m     87\u001b[0m         \u001b[0mself\u001b[0m\u001b[0;34m.\u001b[0m\u001b[0mismask\u001b[0m \u001b[0;34m=\u001b[0m \u001b[0mismask\u001b[0m\u001b[0;34m\u001b[0m\u001b[0;34m\u001b[0m\u001b[0m\n\u001b[1;32m     88\u001b[0m         \u001b[0mself\u001b[0m\u001b[0;34m.\u001b[0m\u001b[0mhas_constant_size\u001b[0m\u001b[0;34m=\u001b[0m\u001b[0mhas_constant_size\u001b[0m\u001b[0;34m\u001b[0m\u001b[0;34m\u001b[0m\u001b[0m\n",
      "\u001b[0;32m<decorator-gen-134>\u001b[0m in \u001b[0;36mget_frame\u001b[0;34m(self, t)\u001b[0m\n",
      "\u001b[0;32m~/anaconda3/envs/ME_particle/lib/python3.7/site-packages/moviepy/decorators.py\u001b[0m in \u001b[0;36mwrapper\u001b[0;34m(f, *a, **kw)\u001b[0m\n\u001b[1;32m     87\u001b[0m         new_kw = {k: fun(v) if k in varnames else v\n\u001b[1;32m     88\u001b[0m                  for (k,v) in kw.items()}\n\u001b[0;32m---> 89\u001b[0;31m         \u001b[0;32mreturn\u001b[0m \u001b[0mf\u001b[0m\u001b[0;34m(\u001b[0m\u001b[0;34m*\u001b[0m\u001b[0mnew_a\u001b[0m\u001b[0;34m,\u001b[0m \u001b[0;34m**\u001b[0m\u001b[0mnew_kw\u001b[0m\u001b[0;34m)\u001b[0m\u001b[0;34m\u001b[0m\u001b[0;34m\u001b[0m\u001b[0m\n\u001b[0m\u001b[1;32m     90\u001b[0m     \u001b[0;32mreturn\u001b[0m \u001b[0mdecorator\u001b[0m\u001b[0;34m.\u001b[0m\u001b[0mdecorator\u001b[0m\u001b[0;34m(\u001b[0m\u001b[0mwrapper\u001b[0m\u001b[0;34m)\u001b[0m\u001b[0;34m\u001b[0m\u001b[0;34m\u001b[0m\u001b[0m\n\u001b[1;32m     91\u001b[0m \u001b[0;34m\u001b[0m\u001b[0m\n",
      "\u001b[0;32m~/anaconda3/envs/ME_particle/lib/python3.7/site-packages/moviepy/Clip.py\u001b[0m in \u001b[0;36mget_frame\u001b[0;34m(self, t)\u001b[0m\n\u001b[1;32m     92\u001b[0m                 \u001b[0;32mreturn\u001b[0m \u001b[0mframe\u001b[0m\u001b[0;34m\u001b[0m\u001b[0;34m\u001b[0m\u001b[0m\n\u001b[1;32m     93\u001b[0m         \u001b[0;32melse\u001b[0m\u001b[0;34m:\u001b[0m\u001b[0;34m\u001b[0m\u001b[0;34m\u001b[0m\u001b[0m\n\u001b[0;32m---> 94\u001b[0;31m             \u001b[0;32mreturn\u001b[0m \u001b[0mself\u001b[0m\u001b[0;34m.\u001b[0m\u001b[0mmake_frame\u001b[0m\u001b[0;34m(\u001b[0m\u001b[0mt\u001b[0m\u001b[0;34m)\u001b[0m\u001b[0;34m\u001b[0m\u001b[0;34m\u001b[0m\u001b[0m\n\u001b[0m\u001b[1;32m     95\u001b[0m \u001b[0;34m\u001b[0m\u001b[0m\n\u001b[1;32m     96\u001b[0m     \u001b[0;32mdef\u001b[0m \u001b[0mfl\u001b[0m\u001b[0;34m(\u001b[0m\u001b[0mself\u001b[0m\u001b[0;34m,\u001b[0m \u001b[0mfun\u001b[0m\u001b[0;34m,\u001b[0m \u001b[0mapply_to\u001b[0m\u001b[0;34m=\u001b[0m\u001b[0;32mNone\u001b[0m\u001b[0;34m,\u001b[0m \u001b[0mkeep_duration\u001b[0m\u001b[0;34m=\u001b[0m\u001b[0;32mTrue\u001b[0m\u001b[0;34m)\u001b[0m\u001b[0;34m:\u001b[0m\u001b[0;34m\u001b[0m\u001b[0;34m\u001b[0m\u001b[0m\n",
      "\u001b[0;31mTypeError\u001b[0m: 'numpy.ndarray' object is not callable"
     ]
    },
    {
     "data": {
      "image/png": "[encoded data removed]",
      "text/plain": [
       "<Figure size 432x288 with 2 Axes>"
      ]
     },
     "metadata": {
      "needs_background": "light"
     },
     "output_type": "display_data"
    }
   ],
   "source": [
    "#%%capture\n",
    "# example cell taken from here: https://zulko.github.io/moviepy/getting_started/working_with_matplotlib.html\n",
    "\n",
    "ME = custom_ME(stateMatrix) # motion energy\n",
    "ME_lb = np.min(ME)-1\n",
    "ME_ub = np.max(ME)+1\n",
    "\n",
    "duration = 2  # duration of clip in seconds\n",
    "totFrames = T + 1 # visit each row of the state matrix once in the clip\n",
    "frameRate = totFrames // duration\n",
    "binSize = duration / totFrames\n",
    "\n",
    "fig, (ax1, ax2) = plt.subplots(1, 2)\n",
    "ax2.clear()\n",
    "ax2.set_xlim(0,T)\n",
    "ax2.set_ylim(ME_lb, ME_ub)\n",
    "\n",
    "animation = VideoClip(make_frame(t, stateMatrix, ME, binSize, fig, ax1, ax2), duration=duration)\n",
    "playAnimation=animation.ipython_display(fps=frameRate, loop=True, autoplay=True, width=800)"
   ]
  },
  {
   "cell_type": "code",
   "execution_count": 30,
   "metadata": {},
   "outputs": [
    {
     "name": "stdout",
     "output_type": "stream",
     "text": [
      "frameNumber  3 \n",
      "ME.shape  (4, 5)\n"
     ]
    }
   ],
   "source": [
    "print('frameNumber ', 3, '\\nME.shape ', (4,5))"
   ]
  },
  {
   "cell_type": "markdown",
   "metadata": {},
   "source": [
    "### Two particles moving in opposite direction"
   ]
  },
  {
   "cell_type": "code",
   "execution_count": 92,
   "metadata": {},
   "outputs": [],
   "source": [
    "# create state matrix\n",
    "stateMatrix = np.zeros((T+1,N),dtype=int)\n",
    "\n",
    "for t in range(T+1):\n",
    "    particleState = np.mod(t,N) # particle wraps around when hitting right boundary\n",
    "    stateMatrix[t,particleState] = 1\n",
    "    stateMatrix[t,-particleState-1] = 1 # mirror particle"
   ]
  },
  {
   "cell_type": "code",
   "execution_count": 93,
   "metadata": {},
   "outputs": [
    {
     "name": "stdout",
     "output_type": "stream",
     "text": [
      "state matrix\n",
      " [[1 0 0 0 0 0 0 0 0 1]\n",
      " [0 1 0 0 0 0 0 0 1 0]\n",
      " [0 0 1 0 0 0 0 1 0 0]\n",
      " [0 0 0 1 0 0 1 0 0 0]\n",
      " [0 0 0 0 1 1 0 0 0 0]\n",
      " [0 0 0 0 1 1 0 0 0 0]\n",
      " [0 0 0 1 0 0 1 0 0 0]\n",
      " [0 0 1 0 0 0 0 1 0 0]\n",
      " [0 1 0 0 0 0 0 0 1 0]\n",
      " [1 0 0 0 0 0 0 0 0 1]\n",
      " [1 0 0 0 0 0 0 0 0 1]\n",
      " [0 1 0 0 0 0 0 0 1 0]\n",
      " [0 0 1 0 0 0 0 1 0 0]\n",
      " [0 0 0 1 0 0 1 0 0 0]\n",
      " [0 0 0 0 1 1 0 0 0 0]\n",
      " [0 0 0 0 1 1 0 0 0 0]\n",
      " [0 0 0 1 0 0 1 0 0 0]\n",
      " [0 0 1 0 0 0 0 1 0 0]\n",
      " [0 1 0 0 0 0 0 0 1 0]\n",
      " [1 0 0 0 0 0 0 0 0 1]\n",
      " [1 0 0 0 0 0 0 0 0 1]]\n",
      "displacement matrix\n",
      " [[-1  1  0  0  0  0  0  0  1 -1]\n",
      " [ 0 -1  1  0  0  0  0  1 -1  0]\n",
      " [ 0  0 -1  1  0  0  1 -1  0  0]\n",
      " [ 0  0  0 -1  1  1 -1  0  0  0]\n",
      " [ 0  0  0  0  0  0  0  0  0  0]\n",
      " [ 0  0  0  1 -1 -1  1  0  0  0]\n",
      " [ 0  0  1 -1  0  0 -1  1  0  0]\n",
      " [ 0  1 -1  0  0  0  0 -1  1  0]\n",
      " [ 1 -1  0  0  0  0  0  0 -1  1]\n",
      " [ 0  0  0  0  0  0  0  0  0  0]\n",
      " [-1  1  0  0  0  0  0  0  1 -1]\n",
      " [ 0 -1  1  0  0  0  0  1 -1  0]\n",
      " [ 0  0 -1  1  0  0  1 -1  0  0]\n",
      " [ 0  0  0 -1  1  1 -1  0  0  0]\n",
      " [ 0  0  0  0  0  0  0  0  0  0]\n",
      " [ 0  0  0  1 -1 -1  1  0  0  0]\n",
      " [ 0  0  1 -1  0  0 -1  1  0  0]\n",
      " [ 0  1 -1  0  0  0  0 -1  1  0]\n",
      " [ 1 -1  0  0  0  0  0  0 -1  1]\n",
      " [ 0  0  0  0  0  0  0  0  0  0]]\n",
      "movement matrix\n",
      " [[ 2  0  0  0  0  0  0  0 -2]\n",
      " [ 0  2  0  0  0  0  0 -2  0]\n",
      " [ 0  0  2  0  0  0 -2  0  0]\n",
      " [ 0  0  0  2  0 -2  0  0  0]\n",
      " [ 0  0  0  0  0  0  0  0  0]\n",
      " [ 0  0  0 -2  0  2  0  0  0]\n",
      " [ 0  0 -2  0  0  0  2  0  0]\n",
      " [ 0 -2  0  0  0  0  0  2  0]\n",
      " [-2  0  0  0  0  0  0  0  2]\n",
      " [ 0  0  0  0  0  0  0  0  0]\n",
      " [ 2  0  0  0  0  0  0  0 -2]\n",
      " [ 0  2  0  0  0  0  0 -2  0]\n",
      " [ 0  0  2  0  0  0 -2  0  0]\n",
      " [ 0  0  0  2  0 -2  0  0  0]\n",
      " [ 0  0  0  0  0  0  0  0  0]\n",
      " [ 0  0  0 -2  0  2  0  0  0]\n",
      " [ 0  0 -2  0  0  0  2  0  0]\n",
      " [ 0 -2  0  0  0  0  0  2  0]\n",
      " [-2  0  0  0  0  0  0  0  2]\n",
      " [ 0  0  0  0  0  0  0  0  0]]\n"
     ]
    },
    {
     "data": {
      "text/plain": [
       "[<matplotlib.lines.Line2D at 0x7f81f9e74e10>]"
      ]
     },
     "execution_count": 93,
     "metadata": {},
     "output_type": "execute_result"
    },
    {
     "data": {
      "image/png": "[encoded data removed]",
      "text/plain": [
       "<Figure size 432x288 with 1 Axes>"
      ]
     },
     "metadata": {
      "needs_background": "light"
     },
     "output_type": "display_data"
    }
   ],
   "source": [
    "%matplotlib inline\n",
    "plt.plot(custom_ME(stateMatrix))"
   ]
  },
  {
   "cell_type": "code",
   "execution_count": 15,
   "metadata": {},
   "outputs": [
    {
     "name": "stderr",
     "output_type": "stream",
     "text": [
      "UsageError: unrecognized arguments: prevent animation in this cell\n"
     ]
    }
   ],
   "source": [
    "%%capture # prevent animation in this cell\n",
    "# example cell taken from here: https://zulko.github.io/moviepy/getting_started/working_with_matplotlib.html\n",
    "x=np.arange(N)+1  # 1D space\n",
    "ME = custom_ME(stateMatrix) # motion energy\n",
    "ME_lb = np.min(ME)-1\n",
    "ME_ub = np.max(ME)+1\n",
    "\n",
    "duration = 2  # duration of clip in seconds\n",
    "totFrames = T + 1 # visit each row of the state matrix once in the clip\n",
    "frameRate = totFrames // duration\n",
    "binSize = duration / totFrames\n",
    "\n",
    "def map_time_to_frame(t):\n",
    "    return int(np.floor(t/binSize))\n",
    "\n",
    "fig, (ax1, ax2) = plt.subplots(1, 2)\n",
    "ax2.clear()\n",
    "ax2.set_xlim(0,T)\n",
    "ax2.set_ylim(ME_lb, ME_ub)\n",
    "def make_frame(t):\n",
    "    ax1.clear()\n",
    "    tt = map_time_to_frame(t)\n",
    "    xx=x[stateMatrix[np.mod(tt,T+1),:]==1]\n",
    "    ax1.plot(xx, np.zeros(xx.shape), 'bo')\n",
    "    ax1.set_ylim(-.5, 0.5)\n",
    "    ax1.set_xlim(0, N+1)\n",
    "    \n",
    "    #ax2.clear()\n",
    "    ax2.plot(tt,ME[tt],'bo')\n",
    "\n",
    "    return mplfig_to_npimage(fig)\n",
    "\n",
    "animation = VideoClip(make_frame, duration=duration)\n",
    "playAnimation = animation.ipython_display(fps=frameRate, loop=True, autoplay=True, width=800)"
   ]
  },
  {
   "cell_type": "markdown",
   "metadata": {},
   "source": [
    "### Two particles moving in same direction"
   ]
  },
  {
   "cell_type": "code",
   "execution_count": 101,
   "metadata": {},
   "outputs": [],
   "source": [
    "# create state matrix\n",
    "stateMatrix = np.zeros((T+1,N),dtype=int)\n",
    "offset = 3\n",
    "for t in range(T+1):\n",
    "    particle1_State = np.mod(t,N) # particle wraps around when hitting right boundary\n",
    "    particle2_State = np.mod(t+offset,N) # particle wraps around when hitting right boundary\n",
    "    stateMatrix[t,particle1_State] = 1\n",
    "    stateMatrix[t,particle2_State] = 1 # mirror particle"
   ]
  },
  {
   "cell_type": "code",
   "execution_count": 102,
   "metadata": {},
   "outputs": [
    {
     "name": "stdout",
     "output_type": "stream",
     "text": [
      "state matrix\n",
      " [[1 0 0 1 0 0 0 0 0 0]\n",
      " [0 1 0 0 1 0 0 0 0 0]\n",
      " [0 0 1 0 0 1 0 0 0 0]\n",
      " [0 0 0 1 0 0 1 0 0 0]\n",
      " [0 0 0 0 1 0 0 1 0 0]\n",
      " [0 0 0 0 0 1 0 0 1 0]\n",
      " [0 0 0 0 0 0 1 0 0 1]\n",
      " [1 0 0 0 0 0 0 1 0 0]\n",
      " [0 1 0 0 0 0 0 0 1 0]\n",
      " [0 0 1 0 0 0 0 0 0 1]\n",
      " [1 0 0 1 0 0 0 0 0 0]\n",
      " [0 1 0 0 1 0 0 0 0 0]\n",
      " [0 0 1 0 0 1 0 0 0 0]\n",
      " [0 0 0 1 0 0 1 0 0 0]\n",
      " [0 0 0 0 1 0 0 1 0 0]\n",
      " [0 0 0 0 0 1 0 0 1 0]\n",
      " [0 0 0 0 0 0 1 0 0 1]\n",
      " [1 0 0 0 0 0 0 1 0 0]\n",
      " [0 1 0 0 0 0 0 0 1 0]\n",
      " [0 0 1 0 0 0 0 0 0 1]\n",
      " [1 0 0 1 0 0 0 0 0 0]]\n",
      "displacement matrix\n",
      " [[-1  1  0 -1  1  0  0  0  0  0]\n",
      " [ 0 -1  1  0 -1  1  0  0  0  0]\n",
      " [ 0  0 -1  1  0 -1  1  0  0  0]\n",
      " [ 0  0  0 -1  1  0 -1  1  0  0]\n",
      " [ 0  0  0  0 -1  1  0 -1  1  0]\n",
      " [ 0  0  0  0  0 -1  1  0 -1  1]\n",
      " [ 1  0  0  0  0  0 -1  1  0 -1]\n",
      " [-1  1  0  0  0  0  0 -1  1  0]\n",
      " [ 0 -1  1  0  0  0  0  0 -1  1]\n",
      " [ 1  0 -1  1  0  0  0  0  0 -1]\n",
      " [-1  1  0 -1  1  0  0  0  0  0]\n",
      " [ 0 -1  1  0 -1  1  0  0  0  0]\n",
      " [ 0  0 -1  1  0 -1  1  0  0  0]\n",
      " [ 0  0  0 -1  1  0 -1  1  0  0]\n",
      " [ 0  0  0  0 -1  1  0 -1  1  0]\n",
      " [ 0  0  0  0  0 -1  1  0 -1  1]\n",
      " [ 1  0  0  0  0  0 -1  1  0 -1]\n",
      " [-1  1  0  0  0  0  0 -1  1  0]\n",
      " [ 0 -1  1  0  0  0  0  0 -1  1]\n",
      " [ 1  0 -1  1  0  0  0  0  0 -1]]\n",
      "movement matrix\n",
      " [[2 0 0 2 0 0 0 0 0]\n",
      " [0 2 0 0 2 0 0 0 0]\n",
      " [0 0 2 0 0 2 0 0 0]\n",
      " [0 0 0 2 0 0 2 0 0]\n",
      " [0 0 0 0 2 0 0 2 0]\n",
      " [0 0 0 0 0 2 0 0 2]\n",
      " [0 0 0 0 0 0 2 0 0]\n",
      " [2 0 0 0 0 0 0 2 0]\n",
      " [0 2 0 0 0 0 0 0 2]\n",
      " [0 0 2 0 0 0 0 0 0]\n",
      " [2 0 0 2 0 0 0 0 0]\n",
      " [0 2 0 0 2 0 0 0 0]\n",
      " [0 0 2 0 0 2 0 0 0]\n",
      " [0 0 0 2 0 0 2 0 0]\n",
      " [0 0 0 0 2 0 0 2 0]\n",
      " [0 0 0 0 0 2 0 0 2]\n",
      " [0 0 0 0 0 0 2 0 0]\n",
      " [2 0 0 0 0 0 0 2 0]\n",
      " [0 2 0 0 0 0 0 0 2]\n",
      " [0 0 2 0 0 0 0 0 0]]\n"
     ]
    },
    {
     "data": {
      "text/plain": [
       "[<matplotlib.lines.Line2D at 0x7f81f81cbba8>]"
      ]
     },
     "execution_count": 102,
     "metadata": {},
     "output_type": "execute_result"
    },
    {
     "data": {
      "image/png": "[encoded data removed]",
      "text/plain": [
       "<Figure size 432x288 with 1 Axes>"
      ]
     },
     "metadata": {
      "needs_background": "light"
     },
     "output_type": "display_data"
    }
   ],
   "source": [
    "%matplotlib inline\n",
    "plt.plot(custom_ME(stateMatrix))"
   ]
  },
  {
   "cell_type": "code",
   "execution_count": 103,
   "metadata": {},
   "outputs": [
    {
     "name": "stdout",
     "output_type": "stream",
     "text": [
      "state matrix\n",
      " [[1 0 0 1 0 0 0 0 0 0]\n",
      " [0 1 0 0 1 0 0 0 0 0]\n",
      " [0 0 1 0 0 1 0 0 0 0]\n",
      " [0 0 0 1 0 0 1 0 0 0]\n",
      " [0 0 0 0 1 0 0 1 0 0]\n",
      " [0 0 0 0 0 1 0 0 1 0]\n",
      " [0 0 0 0 0 0 1 0 0 1]\n",
      " [1 0 0 0 0 0 0 1 0 0]\n",
      " [0 1 0 0 0 0 0 0 1 0]\n",
      " [0 0 1 0 0 0 0 0 0 1]\n",
      " [1 0 0 1 0 0 0 0 0 0]\n",
      " [0 1 0 0 1 0 0 0 0 0]\n",
      " [0 0 1 0 0 1 0 0 0 0]\n",
      " [0 0 0 1 0 0 1 0 0 0]\n",
      " [0 0 0 0 1 0 0 1 0 0]\n",
      " [0 0 0 0 0 1 0 0 1 0]\n",
      " [0 0 0 0 0 0 1 0 0 1]\n",
      " [1 0 0 0 0 0 0 1 0 0]\n",
      " [0 1 0 0 0 0 0 0 1 0]\n",
      " [0 0 1 0 0 0 0 0 0 1]\n",
      " [1 0 0 1 0 0 0 0 0 0]]\n",
      "displacement matrix\n",
      " [[-1  1  0 -1  1  0  0  0  0  0]\n",
      " [ 0 -1  1  0 -1  1  0  0  0  0]\n",
      " [ 0  0 -1  1  0 -1  1  0  0  0]\n",
      " [ 0  0  0 -1  1  0 -1  1  0  0]\n",
      " [ 0  0  0  0 -1  1  0 -1  1  0]\n",
      " [ 0  0  0  0  0 -1  1  0 -1  1]\n",
      " [ 1  0  0  0  0  0 -1  1  0 -1]\n",
      " [-1  1  0  0  0  0  0 -1  1  0]\n",
      " [ 0 -1  1  0  0  0  0  0 -1  1]\n",
      " [ 1  0 -1  1  0  0  0  0  0 -1]\n",
      " [-1  1  0 -1  1  0  0  0  0  0]\n",
      " [ 0 -1  1  0 -1  1  0  0  0  0]\n",
      " [ 0  0 -1  1  0 -1  1  0  0  0]\n",
      " [ 0  0  0 -1  1  0 -1  1  0  0]\n",
      " [ 0  0  0  0 -1  1  0 -1  1  0]\n",
      " [ 0  0  0  0  0 -1  1  0 -1  1]\n",
      " [ 1  0  0  0  0  0 -1  1  0 -1]\n",
      " [-1  1  0  0  0  0  0 -1  1  0]\n",
      " [ 0 -1  1  0  0  0  0  0 -1  1]\n",
      " [ 1  0 -1  1  0  0  0  0  0 -1]]\n",
      "movement matrix\n",
      " [[2 0 0 2 0 0 0 0 0]\n",
      " [0 2 0 0 2 0 0 0 0]\n",
      " [0 0 2 0 0 2 0 0 0]\n",
      " [0 0 0 2 0 0 2 0 0]\n",
      " [0 0 0 0 2 0 0 2 0]\n",
      " [0 0 0 0 0 2 0 0 2]\n",
      " [0 0 0 0 0 0 2 0 0]\n",
      " [2 0 0 0 0 0 0 2 0]\n",
      " [0 2 0 0 0 0 0 0 2]\n",
      " [0 0 2 0 0 0 0 0 0]\n",
      " [2 0 0 2 0 0 0 0 0]\n",
      " [0 2 0 0 2 0 0 0 0]\n",
      " [0 0 2 0 0 2 0 0 0]\n",
      " [0 0 0 2 0 0 2 0 0]\n",
      " [0 0 0 0 2 0 0 2 0]\n",
      " [0 0 0 0 0 2 0 0 2]\n",
      " [0 0 0 0 0 0 2 0 0]\n",
      " [2 0 0 0 0 0 0 2 0]\n",
      " [0 2 0 0 0 0 0 0 2]\n",
      " [0 0 2 0 0 0 0 0 0]]\n"
     ]
    },
    {
     "name": "stderr",
     "output_type": "stream",
     "text": [
      "\n",
      "\n",
      "\n",
      "\n",
      "\n",
      "\n",
      "\n",
      "  0%|          | 0/21 [00:00<?, ?it/s]\u001b[A\u001b[A\u001b[A\u001b[A\u001b[A\u001b[A\u001b[A\n",
      "\n",
      "\n",
      "\n",
      "\n",
      "\n",
      "\n",
      "  5%|▍         | 1/21 [00:00<00:03,  5.52it/s]\u001b[A\u001b[A\u001b[A\u001b[A\u001b[A\u001b[A\u001b[A\n",
      "\n",
      "\n",
      "\n",
      "\n",
      "\n",
      "\n",
      " 10%|▉         | 2/21 [00:00<00:03,  5.85it/s]\u001b[A\u001b[A\u001b[A\u001b[A\u001b[A\u001b[A\u001b[A\n",
      "\n",
      "\n",
      "\n",
      "\n",
      "\n",
      "\n",
      " 14%|█▍        | 3/21 [00:00<00:02,  6.07it/s]\u001b[A\u001b[A\u001b[A\u001b[A\u001b[A\u001b[A\u001b[A\n",
      "\n",
      "\n",
      "\n",
      "\n",
      "\n",
      "\n",
      " 19%|█▉        | 4/21 [00:00<00:02,  6.40it/s]\u001b[A\u001b[A\u001b[A\u001b[A\u001b[A\u001b[A\u001b[A\n",
      "\n",
      "\n",
      "\n",
      "\n",
      "\n",
      "\n",
      " 24%|██▍       | 5/21 [00:00<00:02,  6.05it/s]\u001b[A\u001b[A\u001b[A\u001b[A\u001b[A\u001b[A\u001b[A\n",
      "\n",
      "\n",
      "\n",
      "\n",
      "\n",
      "\n",
      " 29%|██▊       | 6/21 [00:00<00:02,  6.11it/s]\u001b[A\u001b[A\u001b[A\u001b[A\u001b[A\u001b[A\u001b[A\n",
      "\n",
      "\n",
      "\n",
      "\n",
      "\n",
      "\n",
      " 33%|███▎      | 7/21 [00:01<00:02,  6.44it/s]\u001b[A\u001b[A\u001b[A\u001b[A\u001b[A\u001b[A\u001b[A\n",
      "\n",
      "\n",
      "\n",
      "\n",
      "\n",
      "\n",
      " 38%|███▊      | 8/21 [00:01<00:01,  6.65it/s]\u001b[A\u001b[A\u001b[A\u001b[A\u001b[A\u001b[A\u001b[A\n",
      "\n",
      "\n",
      "\n",
      "\n",
      "\n",
      "\n",
      " 43%|████▎     | 9/21 [00:01<00:01,  6.77it/s]\u001b[A\u001b[A\u001b[A\u001b[A\u001b[A\u001b[A\u001b[A\n",
      "\n",
      "\n",
      "\n",
      "\n",
      "\n",
      "\n",
      " 48%|████▊     | 10/21 [00:01<00:01,  6.72it/s]\u001b[A\u001b[A\u001b[A\u001b[A\u001b[A\u001b[A\u001b[A\n",
      "\n",
      "\n",
      "\n",
      "\n",
      "\n",
      "\n",
      " 52%|█████▏    | 11/21 [00:01<00:01,  6.85it/s]\u001b[A\u001b[A\u001b[A\u001b[A\u001b[A\u001b[A\u001b[A\n",
      "\n",
      "\n",
      "\n",
      "\n",
      "\n",
      "\n",
      " 57%|█████▋    | 12/21 [00:01<00:01,  6.93it/s]\u001b[A\u001b[A\u001b[A\u001b[A\u001b[A\u001b[A\u001b[A\n",
      "\n",
      "\n",
      "\n",
      "\n",
      "\n",
      "\n",
      " 62%|██████▏   | 13/21 [00:01<00:01,  7.03it/s]\u001b[A\u001b[A\u001b[A\u001b[A\u001b[A\u001b[A\u001b[A\n",
      "\n",
      "\n",
      "\n",
      "\n",
      "\n",
      "\n",
      " 67%|██████▋   | 14/21 [00:02<00:00,  7.02it/s]\u001b[A\u001b[A\u001b[A\u001b[A\u001b[A\u001b[A\u001b[A\n",
      "\n",
      "\n",
      "\n",
      "\n",
      "\n",
      "\n",
      " 71%|███████▏  | 15/21 [00:02<00:00,  6.64it/s]\u001b[A\u001b[A\u001b[A\u001b[A\u001b[A\u001b[A\u001b[A\n",
      "\n",
      "\n",
      "\n",
      "\n",
      "\n",
      "\n",
      " 76%|███████▌  | 16/21 [00:02<00:00,  6.63it/s]\u001b[A\u001b[A\u001b[A\u001b[A\u001b[A\u001b[A\u001b[A\n",
      "\n",
      "\n",
      "\n",
      "\n",
      "\n",
      "\n",
      " 81%|████████  | 17/21 [00:02<00:00,  6.76it/s]\u001b[A\u001b[A\u001b[A\u001b[A\u001b[A\u001b[A\u001b[A\n",
      "\n",
      "\n",
      "\n",
      "\n",
      "\n",
      "\n",
      " 86%|████████▌ | 18/21 [00:02<00:00,  6.55it/s]\u001b[A\u001b[A\u001b[A\u001b[A\u001b[A\u001b[A\u001b[A\n",
      "\n",
      "\n",
      "\n",
      "\n",
      "\n",
      "\n",
      " 90%|█████████ | 19/21 [00:02<00:00,  6.67it/s]\u001b[A\u001b[A\u001b[A\u001b[A\u001b[A\u001b[A\u001b[A\n",
      "\n",
      "\n",
      "\n",
      "\n",
      "\n",
      "\n",
      " 95%|█████████▌| 20/21 [00:03<00:00,  5.38it/s]\u001b[A\u001b[A\u001b[A\u001b[A\u001b[A\u001b[A\u001b[A\n",
      "\n",
      "\n",
      "\n",
      "\n",
      "\n",
      "\n",
      "\u001b[A\u001b[A\u001b[A\u001b[A\u001b[A\u001b[A\u001b[A"
     ]
    },
    {
     "data": {
      "text/html": [
       "<div align=middle><video loop='True' autoplay='True'src='data:video/mp4;base64,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' controls>Sorry, seems like your browser doesn't support HTML5 audio/video</video></div>"
      ],
      "text/plain": [
       "<moviepy.video.io.html_tools.HTML2 object>"
      ]
     },
     "execution_count": 103,
     "metadata": {},
     "output_type": "execute_result"
    },
    {
     "data": {
      "image/png": "[encoded data removed]",
      "text/plain": [
       "<Figure size 432x288 with 2 Axes>"
      ]
     },
     "metadata": {
      "needs_background": "light"
     },
     "output_type": "display_data"
    }
   ],
   "source": [
    "# example cell taken from here: https://zulko.github.io/moviepy/getting_started/working_with_matplotlib.html\n",
    "\n",
    "x=np.arange(N)+1  # 1D space\n",
    "ME = custom_ME(stateMatrix) # motion energy\n",
    "ME_lb = np.min(ME)-1\n",
    "ME_ub = np.max(ME)+1\n",
    "\n",
    "duration = 2  # duration of clip in seconds\n",
    "totFrames = T + 1 # visit each row of the state matrix once in the clip\n",
    "frameRate = totFrames // duration\n",
    "binSize = duration / totFrames\n",
    "\n",
    "def map_time_to_frame(t):\n",
    "    return int(np.floor(t/binSize))\n",
    "\n",
    "fig, (ax1, ax2) = plt.subplots(1, 2)\n",
    "ax2.clear()\n",
    "ax2.set_xlim(0,T)\n",
    "ax2.set_ylim(ME_lb, ME_ub)\n",
    "def make_frame(t):\n",
    "    ax1.clear()\n",
    "    tt = map_time_to_frame(t)\n",
    "    xx=x[stateMatrix[np.mod(tt,T+1),:]==1]\n",
    "    ax1.plot(xx, np.zeros(xx.shape), 'bo')\n",
    "    ax1.set_ylim(-.5, 0.5)\n",
    "    ax1.set_xlim(0, N+1)\n",
    "    \n",
    "    #ax2.clear()\n",
    "    ax2.plot(tt,ME[tt],'bo')\n",
    "\n",
    "    return mplfig_to_npimage(fig)\n",
    "\n",
    "animation = VideoClip(make_frame, duration=duration)\n",
    "animation.ipython_display(fps=frameRate, loop=True, autoplay=True)"
   ]
  }
 ],
 "metadata": {
  "kernelspec": {
   "display_name": "Python 3.7 (ME_particle)",
   "language": "python",
   "name": "me_particle"
  },
  "language_info": {
   "codemirror_mode": {
    "name": "ipython",
    "version": 3
   },
   "file_extension": ".py",
   "mimetype": "text/x-python",
   "name": "python",
   "nbconvert_exporter": "python",
   "pygments_lexer": "ipython3",
   "version": "3.7.1"
  }
 },
 "nbformat": 4,
 "nbformat_minor": 2
}
